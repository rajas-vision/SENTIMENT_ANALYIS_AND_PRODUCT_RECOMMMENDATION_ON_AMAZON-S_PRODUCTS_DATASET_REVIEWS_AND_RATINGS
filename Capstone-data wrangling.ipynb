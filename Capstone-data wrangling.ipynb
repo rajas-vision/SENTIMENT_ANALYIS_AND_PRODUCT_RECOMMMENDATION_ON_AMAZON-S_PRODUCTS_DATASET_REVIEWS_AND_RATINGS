{
 "cells": [
  {
   "cell_type": "code",
   "execution_count": 1,
   "id": "9c53d888",
   "metadata": {},
   "outputs": [],
   "source": [
    "# Data wrangling library\n",
    "import pandas as pd\n",
    "\n",
    "# data manupulation library\n",
    "import numpy as np\n",
    "\n",
    "# library to Decompress the file\n",
    "import gzip\n",
    "\n",
    "# library to Visualize\n",
    "import matplotlib.pyplot as plt\n",
    "from matplotlib.colors import ListedColormap\n",
    "import seaborn as sns\n",
    "import matplotlib.colors as colors\n",
    "%matplotlib inline\n",
    "\n",
    "# format library\n",
    "from datetime import datetime\n",
    "\n",
    "## detect Warnings to handle exceptions\n",
    "import warnings\n",
    "from scipy import stats\n",
    "warnings.filterwarnings('ignore')\n",
    "\n",
    "# dataset handling using db lib\n",
    "import dask.bag as db"
   ]
  },
  {
   "cell_type": "code",
   "execution_count": 2,
   "id": "6fd86b1b",
   "metadata": {},
   "outputs": [],
   "source": [
    "\n",
    "## IMPORT cellphones and Accessories products reviews and ratings in pandas\n",
    "\n",
    "reviews_df = pd.read_json('/Users/STSC/Desktop/Capstone/Cell_Phones_and_Accessories_5.json', orient='records', lines=True)"
   ]
  },
  {
   "cell_type": "code",
   "execution_count": 3,
   "id": "9791a657",
   "metadata": {
    "scrolled": true
   },
   "outputs": [
    {
     "data": {
      "text/html": [
       "<div>\n",
       "<style scoped>\n",
       "    .dataframe tbody tr th:only-of-type {\n",
       "        vertical-align: middle;\n",
       "    }\n",
       "\n",
       "    .dataframe tbody tr th {\n",
       "        vertical-align: top;\n",
       "    }\n",
       "\n",
       "    .dataframe thead th {\n",
       "        text-align: right;\n",
       "    }\n",
       "</style>\n",
       "<table border=\"1\" class=\"dataframe\">\n",
       "  <thead>\n",
       "    <tr style=\"text-align: right;\">\n",
       "      <th></th>\n",
       "      <th>reviewerID</th>\n",
       "      <th>asin</th>\n",
       "      <th>reviewerName</th>\n",
       "      <th>helpful</th>\n",
       "      <th>reviewText</th>\n",
       "      <th>overall</th>\n",
       "      <th>summary</th>\n",
       "      <th>unixReviewTime</th>\n",
       "      <th>reviewTime</th>\n",
       "    </tr>\n",
       "  </thead>\n",
       "  <tbody>\n",
       "    <tr>\n",
       "      <th>0</th>\n",
       "      <td>A30TL5EWN6DFXT</td>\n",
       "      <td>120401325X</td>\n",
       "      <td>christina</td>\n",
       "      <td>[0, 0]</td>\n",
       "      <td>They look good and stick good! I just don't li...</td>\n",
       "      <td>4</td>\n",
       "      <td>Looks Good</td>\n",
       "      <td>1400630400</td>\n",
       "      <td>05 21, 2014</td>\n",
       "    </tr>\n",
       "    <tr>\n",
       "      <th>1</th>\n",
       "      <td>ASY55RVNIL0UD</td>\n",
       "      <td>120401325X</td>\n",
       "      <td>emily l.</td>\n",
       "      <td>[0, 0]</td>\n",
       "      <td>These stickers work like the review says they ...</td>\n",
       "      <td>5</td>\n",
       "      <td>Really great product.</td>\n",
       "      <td>1389657600</td>\n",
       "      <td>01 14, 2014</td>\n",
       "    </tr>\n",
       "    <tr>\n",
       "      <th>2</th>\n",
       "      <td>A2TMXE2AFO7ONB</td>\n",
       "      <td>120401325X</td>\n",
       "      <td>Erica</td>\n",
       "      <td>[0, 0]</td>\n",
       "      <td>These are awesome and make my phone look so st...</td>\n",
       "      <td>5</td>\n",
       "      <td>LOVE LOVE LOVE</td>\n",
       "      <td>1403740800</td>\n",
       "      <td>06 26, 2014</td>\n",
       "    </tr>\n",
       "    <tr>\n",
       "      <th>3</th>\n",
       "      <td>AWJ0WZQYMYFQ4</td>\n",
       "      <td>120401325X</td>\n",
       "      <td>JM</td>\n",
       "      <td>[4, 4]</td>\n",
       "      <td>Item arrived in great time and was in perfect ...</td>\n",
       "      <td>4</td>\n",
       "      <td>Cute!</td>\n",
       "      <td>1382313600</td>\n",
       "      <td>10 21, 2013</td>\n",
       "    </tr>\n",
       "    <tr>\n",
       "      <th>4</th>\n",
       "      <td>ATX7CZYFXI1KW</td>\n",
       "      <td>120401325X</td>\n",
       "      <td>patrice m rogoza</td>\n",
       "      <td>[2, 3]</td>\n",
       "      <td>awesome! stays on, and looks great. can be use...</td>\n",
       "      <td>5</td>\n",
       "      <td>leopard home button sticker for iphone 4s</td>\n",
       "      <td>1359849600</td>\n",
       "      <td>02 3, 2013</td>\n",
       "    </tr>\n",
       "    <tr>\n",
       "      <th>...</th>\n",
       "      <td>...</td>\n",
       "      <td>...</td>\n",
       "      <td>...</td>\n",
       "      <td>...</td>\n",
       "      <td>...</td>\n",
       "      <td>...</td>\n",
       "      <td>...</td>\n",
       "      <td>...</td>\n",
       "      <td>...</td>\n",
       "    </tr>\n",
       "    <tr>\n",
       "      <th>194434</th>\n",
       "      <td>A1YMNTFLNDYQ1F</td>\n",
       "      <td>B00LORXVUE</td>\n",
       "      <td>eyeused2loveher</td>\n",
       "      <td>[0, 0]</td>\n",
       "      <td>Works great just like my original one. I reall...</td>\n",
       "      <td>5</td>\n",
       "      <td>This works just perfect!</td>\n",
       "      <td>1405900800</td>\n",
       "      <td>07 21, 2014</td>\n",
       "    </tr>\n",
       "    <tr>\n",
       "      <th>194435</th>\n",
       "      <td>A15TX8B2L8B20S</td>\n",
       "      <td>B00LORXVUE</td>\n",
       "      <td>Jon Davidson</td>\n",
       "      <td>[0, 0]</td>\n",
       "      <td>Great product. Great packaging. High quality a...</td>\n",
       "      <td>5</td>\n",
       "      <td>Great replacement cable. Apple certified</td>\n",
       "      <td>1405900800</td>\n",
       "      <td>07 21, 2014</td>\n",
       "    </tr>\n",
       "    <tr>\n",
       "      <th>194436</th>\n",
       "      <td>A3JI7QRZO1QG8X</td>\n",
       "      <td>B00LORXVUE</td>\n",
       "      <td>Joyce M. Davidson</td>\n",
       "      <td>[0, 0]</td>\n",
       "      <td>This is a great cable, just as good as the mor...</td>\n",
       "      <td>5</td>\n",
       "      <td>Real quality</td>\n",
       "      <td>1405900800</td>\n",
       "      <td>07 21, 2014</td>\n",
       "    </tr>\n",
       "    <tr>\n",
       "      <th>194437</th>\n",
       "      <td>A1NHB2VC68YQNM</td>\n",
       "      <td>B00LORXVUE</td>\n",
       "      <td>Nurse Farrugia</td>\n",
       "      <td>[0, 0]</td>\n",
       "      <td>I really like it becasue it works well with my...</td>\n",
       "      <td>5</td>\n",
       "      <td>I really like it becasue it works well with my...</td>\n",
       "      <td>1405814400</td>\n",
       "      <td>07 20, 2014</td>\n",
       "    </tr>\n",
       "    <tr>\n",
       "      <th>194438</th>\n",
       "      <td>A1AG6U022WHXBF</td>\n",
       "      <td>B00LORXVUE</td>\n",
       "      <td>Trisha Crocker</td>\n",
       "      <td>[0, 0]</td>\n",
       "      <td>product as described, I have wasted a lot of m...</td>\n",
       "      <td>5</td>\n",
       "      <td>I have wasted a lot of money on cords</td>\n",
       "      <td>1405900800</td>\n",
       "      <td>07 21, 2014</td>\n",
       "    </tr>\n",
       "  </tbody>\n",
       "</table>\n",
       "<p>194439 rows × 9 columns</p>\n",
       "</div>"
      ],
      "text/plain": [
       "            reviewerID        asin       reviewerName helpful  \\\n",
       "0       A30TL5EWN6DFXT  120401325X          christina  [0, 0]   \n",
       "1        ASY55RVNIL0UD  120401325X           emily l.  [0, 0]   \n",
       "2       A2TMXE2AFO7ONB  120401325X              Erica  [0, 0]   \n",
       "3        AWJ0WZQYMYFQ4  120401325X                 JM  [4, 4]   \n",
       "4        ATX7CZYFXI1KW  120401325X   patrice m rogoza  [2, 3]   \n",
       "...                ...         ...                ...     ...   \n",
       "194434  A1YMNTFLNDYQ1F  B00LORXVUE    eyeused2loveher  [0, 0]   \n",
       "194435  A15TX8B2L8B20S  B00LORXVUE       Jon Davidson  [0, 0]   \n",
       "194436  A3JI7QRZO1QG8X  B00LORXVUE  Joyce M. Davidson  [0, 0]   \n",
       "194437  A1NHB2VC68YQNM  B00LORXVUE     Nurse Farrugia  [0, 0]   \n",
       "194438  A1AG6U022WHXBF  B00LORXVUE     Trisha Crocker  [0, 0]   \n",
       "\n",
       "                                               reviewText  overall  \\\n",
       "0       They look good and stick good! I just don't li...        4   \n",
       "1       These stickers work like the review says they ...        5   \n",
       "2       These are awesome and make my phone look so st...        5   \n",
       "3       Item arrived in great time and was in perfect ...        4   \n",
       "4       awesome! stays on, and looks great. can be use...        5   \n",
       "...                                                   ...      ...   \n",
       "194434  Works great just like my original one. I reall...        5   \n",
       "194435  Great product. Great packaging. High quality a...        5   \n",
       "194436  This is a great cable, just as good as the mor...        5   \n",
       "194437  I really like it becasue it works well with my...        5   \n",
       "194438  product as described, I have wasted a lot of m...        5   \n",
       "\n",
       "                                                  summary  unixReviewTime  \\\n",
       "0                                              Looks Good      1400630400   \n",
       "1                                   Really great product.      1389657600   \n",
       "2                                          LOVE LOVE LOVE      1403740800   \n",
       "3                                                   Cute!      1382313600   \n",
       "4               leopard home button sticker for iphone 4s      1359849600   \n",
       "...                                                   ...             ...   \n",
       "194434                           This works just perfect!      1405900800   \n",
       "194435           Great replacement cable. Apple certified      1405900800   \n",
       "194436                                       Real quality      1405900800   \n",
       "194437  I really like it becasue it works well with my...      1405814400   \n",
       "194438              I have wasted a lot of money on cords      1405900800   \n",
       "\n",
       "         reviewTime  \n",
       "0       05 21, 2014  \n",
       "1       01 14, 2014  \n",
       "2       06 26, 2014  \n",
       "3       10 21, 2013  \n",
       "4        02 3, 2013  \n",
       "...             ...  \n",
       "194434  07 21, 2014  \n",
       "194435  07 21, 2014  \n",
       "194436  07 21, 2014  \n",
       "194437  07 20, 2014  \n",
       "194438  07 21, 2014  \n",
       "\n",
       "[194439 rows x 9 columns]"
      ]
     },
     "execution_count": 3,
     "metadata": {},
     "output_type": "execute_result"
    }
   ],
   "source": [
    "reviews_df"
   ]
  },
  {
   "cell_type": "code",
   "execution_count": 4,
   "id": "537c3e10",
   "metadata": {},
   "outputs": [
    {
     "data": {
      "text/plain": [
       "reviewerID           0\n",
       "asin                 0\n",
       "reviewerName      3519\n",
       "helpful              0\n",
       "reviewText           0\n",
       "overall              0\n",
       "summary              0\n",
       "unixReviewTime       0\n",
       "reviewTime           0\n",
       "dtype: int64"
      ]
     },
     "execution_count": 4,
     "metadata": {},
     "output_type": "execute_result"
    }
   ],
   "source": [
    "reviews_df.isnull().sum()"
   ]
  },
  {
   "cell_type": "code",
   "execution_count": 5,
   "id": "e1880d15",
   "metadata": {},
   "outputs": [
    {
     "name": "stdout",
     "output_type": "stream",
     "text": [
      "data shape: (194439, 9)\n"
     ]
    },
    {
     "data": {
      "text/html": [
       "<div>\n",
       "<style scoped>\n",
       "    .dataframe tbody tr th:only-of-type {\n",
       "        vertical-align: middle;\n",
       "    }\n",
       "\n",
       "    .dataframe tbody tr th {\n",
       "        vertical-align: top;\n",
       "    }\n",
       "\n",
       "    .dataframe thead th {\n",
       "        text-align: right;\n",
       "    }\n",
       "</style>\n",
       "<table border=\"1\" class=\"dataframe\">\n",
       "  <thead>\n",
       "    <tr style=\"text-align: right;\">\n",
       "      <th></th>\n",
       "      <th>reviewerID</th>\n",
       "      <th>asin</th>\n",
       "      <th>reviewerName</th>\n",
       "      <th>helpful</th>\n",
       "      <th>reviewText</th>\n",
       "      <th>Rating</th>\n",
       "      <th>summary</th>\n",
       "      <th>unixReviewTime</th>\n",
       "      <th>reviewTime</th>\n",
       "    </tr>\n",
       "  </thead>\n",
       "  <tbody>\n",
       "    <tr>\n",
       "      <th>0</th>\n",
       "      <td>A30TL5EWN6DFXT</td>\n",
       "      <td>120401325X</td>\n",
       "      <td>christina</td>\n",
       "      <td>[0, 0]</td>\n",
       "      <td>They look good and stick good! I just don't li...</td>\n",
       "      <td>4</td>\n",
       "      <td>Looks Good</td>\n",
       "      <td>1400630400</td>\n",
       "      <td>05 21, 2014</td>\n",
       "    </tr>\n",
       "    <tr>\n",
       "      <th>1</th>\n",
       "      <td>ASY55RVNIL0UD</td>\n",
       "      <td>120401325X</td>\n",
       "      <td>emily l.</td>\n",
       "      <td>[0, 0]</td>\n",
       "      <td>These stickers work like the review says they ...</td>\n",
       "      <td>5</td>\n",
       "      <td>Really great product.</td>\n",
       "      <td>1389657600</td>\n",
       "      <td>01 14, 2014</td>\n",
       "    </tr>\n",
       "    <tr>\n",
       "      <th>2</th>\n",
       "      <td>A2TMXE2AFO7ONB</td>\n",
       "      <td>120401325X</td>\n",
       "      <td>Erica</td>\n",
       "      <td>[0, 0]</td>\n",
       "      <td>These are awesome and make my phone look so st...</td>\n",
       "      <td>5</td>\n",
       "      <td>LOVE LOVE LOVE</td>\n",
       "      <td>1403740800</td>\n",
       "      <td>06 26, 2014</td>\n",
       "    </tr>\n",
       "    <tr>\n",
       "      <th>3</th>\n",
       "      <td>AWJ0WZQYMYFQ4</td>\n",
       "      <td>120401325X</td>\n",
       "      <td>JM</td>\n",
       "      <td>[4, 4]</td>\n",
       "      <td>Item arrived in great time and was in perfect ...</td>\n",
       "      <td>4</td>\n",
       "      <td>Cute!</td>\n",
       "      <td>1382313600</td>\n",
       "      <td>10 21, 2013</td>\n",
       "    </tr>\n",
       "    <tr>\n",
       "      <th>4</th>\n",
       "      <td>ATX7CZYFXI1KW</td>\n",
       "      <td>120401325X</td>\n",
       "      <td>patrice m rogoza</td>\n",
       "      <td>[2, 3]</td>\n",
       "      <td>awesome! stays on, and looks great. can be use...</td>\n",
       "      <td>5</td>\n",
       "      <td>leopard home button sticker for iphone 4s</td>\n",
       "      <td>1359849600</td>\n",
       "      <td>02 3, 2013</td>\n",
       "    </tr>\n",
       "  </tbody>\n",
       "</table>\n",
       "</div>"
      ],
      "text/plain": [
       "       reviewerID        asin      reviewerName helpful  \\\n",
       "0  A30TL5EWN6DFXT  120401325X         christina  [0, 0]   \n",
       "1   ASY55RVNIL0UD  120401325X          emily l.  [0, 0]   \n",
       "2  A2TMXE2AFO7ONB  120401325X             Erica  [0, 0]   \n",
       "3   AWJ0WZQYMYFQ4  120401325X                JM  [4, 4]   \n",
       "4   ATX7CZYFXI1KW  120401325X  patrice m rogoza  [2, 3]   \n",
       "\n",
       "                                          reviewText  Rating  \\\n",
       "0  They look good and stick good! I just don't li...       4   \n",
       "1  These stickers work like the review says they ...       5   \n",
       "2  These are awesome and make my phone look so st...       5   \n",
       "3  Item arrived in great time and was in perfect ...       4   \n",
       "4  awesome! stays on, and looks great. can be use...       5   \n",
       "\n",
       "                                     summary  unixReviewTime   reviewTime  \n",
       "0                                 Looks Good      1400630400  05 21, 2014  \n",
       "1                      Really great product.      1389657600  01 14, 2014  \n",
       "2                             LOVE LOVE LOVE      1403740800  06 26, 2014  \n",
       "3                                      Cute!      1382313600  10 21, 2013  \n",
       "4  leopard home button sticker for iphone 4s      1359849600   02 3, 2013  "
      ]
     },
     "execution_count": 5,
     "metadata": {},
     "output_type": "execute_result"
    }
   ],
   "source": [
    "\n",
    "## renaming the colummn name\n",
    "\n",
    "\n",
    "# change column name \n",
    "reviews_df = reviews_df.rename(columns={'overall': 'Rating'})\n",
    "\n",
    "print (\"data shape:\", str(reviews_df.shape))\n",
    "reviews_df.head()"
   ]
  },
  {
   "cell_type": "code",
   "execution_count": 6,
   "id": "5f1155eb",
   "metadata": {},
   "outputs": [
    {
     "ename": "KeyboardInterrupt",
     "evalue": "",
     "output_type": "error",
     "traceback": [
      "\u001b[1;31m---------------------------------------------------------------------------\u001b[0m",
      "\u001b[1;31mKeyboardInterrupt\u001b[0m                         Traceback (most recent call last)",
      "Input \u001b[1;32mIn [6]\u001b[0m, in \u001b[0;36m<cell line: 20>\u001b[1;34m()\u001b[0m\n\u001b[0;32m     16\u001b[0m     i \u001b[38;5;241m+\u001b[39m\u001b[38;5;241m=\u001b[39m \u001b[38;5;241m1\u001b[39m\n\u001b[0;32m     17\u001b[0m   \u001b[38;5;28;01mreturn\u001b[39;00m pd\u001b[38;5;241m.\u001b[39mDataFrame\u001b[38;5;241m.\u001b[39mfrom_dict(df, orient\u001b[38;5;241m=\u001b[39m\u001b[38;5;124m'\u001b[39m\u001b[38;5;124mindex\u001b[39m\u001b[38;5;124m'\u001b[39m)\n\u001b[1;32m---> 20\u001b[0m dfmeta \u001b[38;5;241m=\u001b[39m \u001b[43mgetDF\u001b[49m\u001b[43m(\u001b[49m\u001b[38;5;124;43m'\u001b[39;49m\u001b[38;5;124;43m/users/STSC/Desktop/Capstone/Metadata/meta_Cell_Phones_and_Accessories.gz\u001b[39;49m\u001b[38;5;124;43m'\u001b[39;49m\u001b[43m)\u001b[49m\n",
      "Input \u001b[1;32mIn [6]\u001b[0m, in \u001b[0;36mgetDF\u001b[1;34m(path)\u001b[0m\n\u001b[0;32m     12\u001b[0m i \u001b[38;5;241m=\u001b[39m \u001b[38;5;241m0\u001b[39m\n\u001b[0;32m     13\u001b[0m df \u001b[38;5;241m=\u001b[39m {}\n\u001b[1;32m---> 14\u001b[0m \u001b[38;5;28;01mfor\u001b[39;00m d \u001b[38;5;129;01min\u001b[39;00m parse(path):\n\u001b[0;32m     15\u001b[0m   df[i] \u001b[38;5;241m=\u001b[39m d\n\u001b[0;32m     16\u001b[0m   i \u001b[38;5;241m+\u001b[39m\u001b[38;5;241m=\u001b[39m \u001b[38;5;241m1\u001b[39m\n",
      "Input \u001b[1;32mIn [6]\u001b[0m, in \u001b[0;36mparse\u001b[1;34m(path)\u001b[0m\n\u001b[0;32m      6\u001b[0m \u001b[38;5;28;01mdef\u001b[39;00m \u001b[38;5;21mparse\u001b[39m(path):\n\u001b[0;32m      7\u001b[0m   g \u001b[38;5;241m=\u001b[39m gzip\u001b[38;5;241m.\u001b[39mopen(path, \u001b[38;5;124m'\u001b[39m\u001b[38;5;124mrb\u001b[39m\u001b[38;5;124m'\u001b[39m)\n\u001b[1;32m----> 8\u001b[0m   \u001b[38;5;28;01mfor\u001b[39;00m l \u001b[38;5;129;01min\u001b[39;00m g:\n\u001b[0;32m      9\u001b[0m     \u001b[38;5;28;01myield\u001b[39;00m \u001b[38;5;28meval\u001b[39m(l)\n",
      "File \u001b[1;32m~\\anaconda3\\lib\\gzip.py:398\u001b[0m, in \u001b[0;36mGzipFile.readline\u001b[1;34m(self, size)\u001b[0m\n\u001b[0;32m    396\u001b[0m \u001b[38;5;28;01mdef\u001b[39;00m \u001b[38;5;21mreadline\u001b[39m(\u001b[38;5;28mself\u001b[39m, size\u001b[38;5;241m=\u001b[39m\u001b[38;5;241m-\u001b[39m\u001b[38;5;241m1\u001b[39m):\n\u001b[0;32m    397\u001b[0m     \u001b[38;5;28mself\u001b[39m\u001b[38;5;241m.\u001b[39m_check_not_closed()\n\u001b[1;32m--> 398\u001b[0m     \u001b[38;5;28;01mreturn\u001b[39;00m \u001b[38;5;28;43mself\u001b[39;49m\u001b[38;5;241;43m.\u001b[39;49m\u001b[43m_buffer\u001b[49m\u001b[38;5;241;43m.\u001b[39;49m\u001b[43mreadline\u001b[49m\u001b[43m(\u001b[49m\u001b[43msize\u001b[49m\u001b[43m)\u001b[49m\n",
      "File \u001b[1;32m~\\anaconda3\\lib\\_compression.py:68\u001b[0m, in \u001b[0;36mDecompressReader.readinto\u001b[1;34m(self, b)\u001b[0m\n\u001b[0;32m     66\u001b[0m \u001b[38;5;28;01mdef\u001b[39;00m \u001b[38;5;21mreadinto\u001b[39m(\u001b[38;5;28mself\u001b[39m, b):\n\u001b[0;32m     67\u001b[0m     \u001b[38;5;28;01mwith\u001b[39;00m \u001b[38;5;28mmemoryview\u001b[39m(b) \u001b[38;5;28;01mas\u001b[39;00m view, view\u001b[38;5;241m.\u001b[39mcast(\u001b[38;5;124m\"\u001b[39m\u001b[38;5;124mB\u001b[39m\u001b[38;5;124m\"\u001b[39m) \u001b[38;5;28;01mas\u001b[39;00m byte_view:\n\u001b[1;32m---> 68\u001b[0m         data \u001b[38;5;241m=\u001b[39m \u001b[38;5;28;43mself\u001b[39;49m\u001b[38;5;241;43m.\u001b[39;49m\u001b[43mread\u001b[49m\u001b[43m(\u001b[49m\u001b[38;5;28;43mlen\u001b[39;49m\u001b[43m(\u001b[49m\u001b[43mbyte_view\u001b[49m\u001b[43m)\u001b[49m\u001b[43m)\u001b[49m\n\u001b[0;32m     69\u001b[0m         byte_view[:\u001b[38;5;28mlen\u001b[39m(data)] \u001b[38;5;241m=\u001b[39m data\n\u001b[0;32m     70\u001b[0m     \u001b[38;5;28;01mreturn\u001b[39;00m \u001b[38;5;28mlen\u001b[39m(data)\n",
      "File \u001b[1;32m~\\anaconda3\\lib\\gzip.py:495\u001b[0m, in \u001b[0;36m_GzipReader.read\u001b[1;34m(self, size)\u001b[0m\n\u001b[0;32m    492\u001b[0m \u001b[38;5;66;03m# Read a chunk of data from the file\u001b[39;00m\n\u001b[0;32m    493\u001b[0m buf \u001b[38;5;241m=\u001b[39m \u001b[38;5;28mself\u001b[39m\u001b[38;5;241m.\u001b[39m_fp\u001b[38;5;241m.\u001b[39mread(io\u001b[38;5;241m.\u001b[39mDEFAULT_BUFFER_SIZE)\n\u001b[1;32m--> 495\u001b[0m uncompress \u001b[38;5;241m=\u001b[39m \u001b[38;5;28;43mself\u001b[39;49m\u001b[38;5;241;43m.\u001b[39;49m\u001b[43m_decompressor\u001b[49m\u001b[38;5;241;43m.\u001b[39;49m\u001b[43mdecompress\u001b[49m\u001b[43m(\u001b[49m\u001b[43mbuf\u001b[49m\u001b[43m,\u001b[49m\u001b[43m \u001b[49m\u001b[43msize\u001b[49m\u001b[43m)\u001b[49m\n\u001b[0;32m    496\u001b[0m \u001b[38;5;28;01mif\u001b[39;00m \u001b[38;5;28mself\u001b[39m\u001b[38;5;241m.\u001b[39m_decompressor\u001b[38;5;241m.\u001b[39munconsumed_tail \u001b[38;5;241m!=\u001b[39m \u001b[38;5;124mb\u001b[39m\u001b[38;5;124m\"\u001b[39m\u001b[38;5;124m\"\u001b[39m:\n\u001b[0;32m    497\u001b[0m     \u001b[38;5;28mself\u001b[39m\u001b[38;5;241m.\u001b[39m_fp\u001b[38;5;241m.\u001b[39mprepend(\u001b[38;5;28mself\u001b[39m\u001b[38;5;241m.\u001b[39m_decompressor\u001b[38;5;241m.\u001b[39munconsumed_tail)\n",
      "\u001b[1;31mKeyboardInterrupt\u001b[0m: "
     ]
    }
   ],
   "source": [
    "\n",
    "## imporing the meta data of the cell phones and accessories\n",
    "\n",
    "\n",
    "import gzip\n",
    "\n",
    "def parse(path):\n",
    "  g = gzip.open(path, 'rb')\n",
    "  for l in g:\n",
    "    yield eval(l)\n",
    "\n",
    "def getDF(path):\n",
    "  i = 0\n",
    "  df = {}\n",
    "  for d in parse(path):\n",
    "    df[i] = d\n",
    "    i += 1\n",
    "  return pd.DataFrame.from_dict(df, orient='index')\n",
    "\n",
    "\n",
    "dfmeta = getDF('/users/STSC/Desktop/Capstone/Metadata/meta_Cell_Phones_and_Accessories.gz')"
   ]
  },
  {
   "cell_type": "code",
   "execution_count": null,
   "id": "4dc2d1e1",
   "metadata": {
    "scrolled": true
   },
   "outputs": [],
   "source": [
    "dfmeta.head()"
   ]
  },
  {
   "cell_type": "code",
   "execution_count": null,
   "id": "ef9f73cc",
   "metadata": {},
   "outputs": [],
   "source": []
  },
  {
   "cell_type": "markdown",
   "id": "216f97b7",
   "metadata": {},
   "source": [
    "['Cell Phones & Accessories', 'Accessories']"
   ]
  },
  {
   "cell_type": "code",
   "execution_count": null,
   "id": "d4ee2bba",
   "metadata": {},
   "outputs": [],
   "source": [
    "dfmeta.isnull().sum()"
   ]
  },
  {
   "cell_type": "code",
   "execution_count": null,
   "id": "7458ec8d",
   "metadata": {},
   "outputs": [],
   "source": [
    "cat_df=dfmeta['category']\n",
    "cat_df.to_csv('cvalues.csv', index=False)"
   ]
  },
  {
   "cell_type": "code",
   "execution_count": null,
   "id": "f30250db",
   "metadata": {},
   "outputs": [],
   "source": [
    "# cat_val = [cat[0] for cat in dfmeta['category']]\n",
    "\n",
    "# # get the unique values in the flattened list\n",
    "# unique_cat = set(cat_val)\n",
    "\n",
    "# # print the resulting unique ages\n",
    "# print(unique_cat)"
   ]
  },
  {
   "cell_type": "code",
   "execution_count": null,
   "id": "f7beec42",
   "metadata": {},
   "outputs": [],
   "source": [
    "dfmeta.shape"
   ]
  },
  {
   "cell_type": "code",
   "execution_count": null,
   "id": "ef81d73c",
   "metadata": {},
   "outputs": [],
   "source": [
    "\n",
    "##merging cellphones and accesories reivews and ratings with meta data using how='left'\n",
    "\n",
    "product_reviews=pd.merge(reviews_df,dfmeta,on='asin',how='left')"
   ]
  },
  {
   "cell_type": "code",
   "execution_count": null,
   "id": "b3d1cdce",
   "metadata": {},
   "outputs": [],
   "source": [
    "product_reviews.head()"
   ]
  },
  {
   "cell_type": "code",
   "execution_count": null,
   "id": "a4a007b8",
   "metadata": {},
   "outputs": [],
   "source": [
    "product_reviews.shape"
   ]
  },
  {
   "cell_type": "code",
   "execution_count": null,
   "id": "0d86480d",
   "metadata": {},
   "outputs": [],
   "source": [
    "product_reviews.info()"
   ]
  },
  {
   "cell_type": "code",
   "execution_count": null,
   "id": "700727dd",
   "metadata": {},
   "outputs": [],
   "source": [
    "product_reviews.isnull().sum()"
   ]
  },
  {
   "cell_type": "code",
   "execution_count": null,
   "id": "50eb6c67",
   "metadata": {},
   "outputs": [],
   "source": [
    "\n",
    "## dropping columns\n",
    "\n",
    "\n",
    "product_reviews_c=product_reviews.drop(['tech1','description','fit','title','also_buy','tech2','brand','feature','rank','also_view','details','main_cat','similar_item','date','price','imageURL','imageURLHighRes'],axis=1)\n"
   ]
  },
  {
   "cell_type": "code",
   "execution_count": null,
   "id": "816abda0",
   "metadata": {},
   "outputs": [],
   "source": [
    "product_reviews_c.isnull().sum()"
   ]
  },
  {
   "cell_type": "code",
   "execution_count": null,
   "id": "b3f64cb5",
   "metadata": {},
   "outputs": [],
   "source": [
    "product_reviews_c"
   ]
  },
  {
   "cell_type": "code",
   "execution_count": null,
   "id": "50c55712",
   "metadata": {},
   "outputs": [],
   "source": [
    "data=product_reviews_c.dropna(subset=['reviewerName'])"
   ]
  },
  {
   "cell_type": "code",
   "execution_count": null,
   "id": "e4e5bd82",
   "metadata": {},
   "outputs": [],
   "source": [
    "data.isnull().sum()"
   ]
  },
  {
   "cell_type": "code",
   "execution_count": null,
   "id": "af3c512a",
   "metadata": {},
   "outputs": [],
   "source": [
    "data.dtypes"
   ]
  },
  {
   "cell_type": "markdown",
   "id": "a3323e2d",
   "metadata": {},
   "source": [
    "Remove cateogory column nullvalues"
   ]
  },
  {
   "cell_type": "code",
   "execution_count": null,
   "id": "9f146a46",
   "metadata": {},
   "outputs": [],
   "source": [
    "# data['category'].to_csv('/users/STSC/Desktop/temp.csv', sep=',', encoding='utf-8', index = False)"
   ]
  },
  {
   "cell_type": "code",
   "execution_count": null,
   "id": "9d6a32ab",
   "metadata": {},
   "outputs": [],
   "source": [
    "#data['category'].fillna(value=['Cell Phones & Accessories'], inplace=True)\n",
    "#data['category'] = data['category'].apply(lambda x: ['Cell Phones & Accessories'] if pd.isna(x) else x)\n",
    "#replacement = [['cellphone']] * len(data.index) \n",
    "#data['category'] = np.where(data['category'].isna(), replacement, data['category'])\n",
    "#data['category'].fillna(value='Cell Phones & Accessories', inplace=True)\n",
    "# data['category'] = data['category'].str.split(',')\n",
    "# product_reviews_c.title.unique()\n",
    "# # print the updated DataFrame\n",
    "# print(data)"
   ]
  },
  {
   "cell_type": "code",
   "execution_count": null,
   "id": "1134a011",
   "metadata": {},
   "outputs": [],
   "source": [
    "#data.category = data.category.apply(lambda y: ['Cell Phones & Accessories'] if len(y)==0 else y)"
   ]
  },
  {
   "cell_type": "code",
   "execution_count": null,
   "id": "c62d603b",
   "metadata": {},
   "outputs": [],
   "source": [
    "data"
   ]
  },
  {
   "cell_type": "code",
   "execution_count": null,
   "id": "022caa65",
   "metadata": {},
   "outputs": [],
   "source": [
    "data['category'].fillna(\"Cell Phones & Accessories\", inplace=True)"
   ]
  },
  {
   "cell_type": "code",
   "execution_count": null,
   "id": "b70ecd6d",
   "metadata": {},
   "outputs": [],
   "source": [
    "replace_list = ['Cell Phones & Accessories']\n",
    "\n",
    "# Use apply() with a lambda function to replace 0 with the list\n",
    "# data['category'] = data['category'].apply(lambda x: [replace_list if v == 0 else v for v in x])\n",
    "data['category'] = data['category'].apply(lambda x: replace_list if x == 0 else x)\n",
    "\n",
    "# Print the updated DataFrame\n",
    "print(data)"
   ]
  },
  {
   "cell_type": "code",
   "execution_count": null,
   "id": "035fa9b9",
   "metadata": {},
   "outputs": [],
   "source": [
    "data.isnull().sum()"
   ]
  },
  {
   "cell_type": "code",
   "execution_count": null,
   "id": "91b9aa09",
   "metadata": {},
   "outputs": [],
   "source": [
    "data"
   ]
  },
  {
   "cell_type": "code",
   "execution_count": null,
   "id": "92a05597",
   "metadata": {},
   "outputs": [],
   "source": [
    "# import pandas as pd\n",
    "\n",
    "# # Create a sample DataFrame\n",
    "# # df = pd.DataFrame({'col1': ['a', 'b,c', 'd,e,f']})\n",
    "\n",
    "# # Define a function to replace the string value with a list\n",
    "# def string_to_list(value):\n",
    "#     if ',' in value:\n",
    "#         return value.split(',')\n",
    "#     else:\n",
    "#         return [value]\n",
    "\n",
    "# # Apply the function to the column\n",
    "# data['category'] = data['category'].apply(string_to_list)\n",
    "\n",
    "# # Print the DataFrame\n",
    "# print(data)\n"
   ]
  },
  {
   "cell_type": "code",
   "execution_count": null,
   "id": "4947ac3a",
   "metadata": {},
   "outputs": [],
   "source": [
    "# data['category'] = data['category'].replace('Cell Phones & Accessories', ['Cell Phones & Accessories'])"
   ]
  },
  {
   "cell_type": "code",
   "execution_count": null,
   "id": "de0d9824",
   "metadata": {},
   "outputs": [],
   "source": [
    "data.isnull().sum()"
   ]
  },
  {
   "cell_type": "code",
   "execution_count": null,
   "id": "443977d9",
   "metadata": {},
   "outputs": [],
   "source": [
    "#data['category'].fillna(value=['Cell Phones & Accessories'], inplace=True)\n",
    " #Define a default value to replace null values with\n",
    "#default_value = ['Cell Phones & Accessories']\n",
    "\n",
    "# Replace null values with the default value\n",
    "#data['category'] = data['category'].apply(lambda x: x if x is not None else default_value)"
   ]
  },
  {
   "cell_type": "code",
   "execution_count": null,
   "id": "2a4928c8",
   "metadata": {},
   "outputs": [],
   "source": []
  },
  {
   "cell_type": "code",
   "execution_count": null,
   "id": "23365fd7",
   "metadata": {},
   "outputs": [],
   "source": [
    "# data['category'] = data['category'].fillna(value=['Cell Phones & Accessories'])"
   ]
  },
  {
   "cell_type": "code",
   "execution_count": null,
   "id": "9abc0736",
   "metadata": {},
   "outputs": [],
   "source": [
    "# import pandas as pd\n",
    "# import numpy as np\n",
    "\n",
    "# # # Create a DataFrame with a column containing [nan] values\n",
    "# df = pd.DataFrame({'category': [['Cell Phones & Accessories'], [np.nan], ['Computers'], [np.nan], ['Electronics']]})\n",
    "\n",
    "# # Replace [nan] values with ['Cell Phones & Accessories']\n",
    "# data['category'] = data['category'].fillna(['Cell Phones & Accessories'])\n",
    "\n",
    "# print(data)\n",
    "# #"
   ]
  },
  {
   "cell_type": "code",
   "execution_count": null,
   "id": "9f1d8d0f",
   "metadata": {},
   "outputs": [],
   "source": [
    "#data['category'] = data['category'].apply(lambda x: ['Cell Phones & Accessories'] if pd.isna(x[0]) else x)"
   ]
  },
  {
   "cell_type": "code",
   "execution_count": null,
   "id": "4c6b0341",
   "metadata": {},
   "outputs": [],
   "source": [
    "#convert_float_to_list = lambda x: [x]\n",
    "\n",
    "# Apply the lambda function to the 'col1' column\n",
    "#data['category'] = data['category'].apply(convert_float_to_list)\n",
    "\n",
    "#print(data)"
   ]
  },
  {
   "cell_type": "code",
   "execution_count": null,
   "id": "d8f69f1d",
   "metadata": {},
   "outputs": [],
   "source": [
    "# import pandas as pd\n",
    "\n",
    "# # create a sample DataFrame with a NaN column\n",
    "\n",
    "\n",
    "# # fill NaN values with an empty list\n",
    "# data['category'] = data['category'].fillna([])\n",
    "\n",
    "# # convert NaN column to string of list\n",
    "# data['category'] = data['category'].apply(lambda x: str(list(x)))\n"
   ]
  },
  {
   "cell_type": "code",
   "execution_count": null,
   "id": "1a2bacac",
   "metadata": {},
   "outputs": [],
   "source": [
    "# data['category'] = data['category'].fillna('[]')\n",
    "\n",
    "# # convert NaN column to string of list\n",
    "# data['category'] = data['category'].apply(lambda x: str([float(i) for i in x.strip('[]').split()]))\n",
    "\n",
    "# # print the updated DataFrame\n",
    "# print(data)\n",
    "\n",
    "\n"
   ]
  },
  {
   "cell_type": "code",
   "execution_count": null,
   "id": "7b77acf7",
   "metadata": {},
   "outputs": [],
   "source": [
    "# data1 = ['Cell Phones & Accessories']\n",
    "# data['category'] = data['category'].apply(lambda x: x.extend(data1) or x if not x else x)"
   ]
  },
  {
   "cell_type": "code",
   "execution_count": null,
   "id": "63c37f22",
   "metadata": {},
   "outputs": [],
   "source": [
    "# fill_value = 'Cell Phones & Accessories'\n",
    "\n",
    "# # fill empty lists in column 'B' with fill_value\n",
    "# data['category'] = data['category'].apply(lambda x: [fill_value] if not x else x)\n"
   ]
  },
  {
   "cell_type": "code",
   "execution_count": null,
   "id": "4f5b9b18",
   "metadata": {},
   "outputs": [],
   "source": [
    "# data.loc[data['category'].apply(len) == 0, 'category'] = [['Cell Phones & Accessories']]"
   ]
  },
  {
   "cell_type": "code",
   "execution_count": null,
   "id": "67b72f3d",
   "metadata": {},
   "outputs": [],
   "source": [
    "# m = data['category'].str.len().eq(0)\n",
    "# data.loc[m, 'category'] = [['Cell Phones & Accessories']]*m.sum()?"
   ]
  },
  {
   "cell_type": "code",
   "execution_count": null,
   "id": "531e153d",
   "metadata": {},
   "outputs": [],
   "source": [
    "# # string to replace null values with\n",
    "# new = data[\"data\"].copy()\n",
    "# na_string =\"Cell Phones & Accessories\"\n",
    " \n",
    "# # concatenating team with name column\n",
    "# # overwriting name column\n",
    "# data[\"category\"]= data[\"category\"].str.cat(new, sep =\", \", na_rep = na_string)\n",
    " \n",
    "# # display\n",
    "# data"
   ]
  },
  {
   "cell_type": "code",
   "execution_count": null,
   "id": "d7a2843e",
   "metadata": {},
   "outputs": [],
   "source": [
    "# ans = ' '\n",
    "# for i in data['category']:\n",
    "   \n",
    "#   # concatenating the strings\n",
    "#   # using + operator\n",
    "#   ans = ans+ ' '+ i"
   ]
  },
  {
   "cell_type": "code",
   "execution_count": null,
   "id": "64124842",
   "metadata": {},
   "outputs": [],
   "source": [
    "data"
   ]
  },
  {
   "cell_type": "code",
   "execution_count": null,
   "id": "e7598526",
   "metadata": {},
   "outputs": [],
   "source": [
    "data.dtypes"
   ]
  },
  {
   "cell_type": "code",
   "execution_count": null,
   "id": "6c3a3ab9",
   "metadata": {},
   "outputs": [],
   "source": [
    "#data['category'] = data['category'].replace([], ['Cell Phones & Accessories'])"
   ]
  },
  {
   "cell_type": "code",
   "execution_count": null,
   "id": "c9cd7e66",
   "metadata": {},
   "outputs": [],
   "source": [
    "#replace_empty_list = lambda x: ['Cell Phones & Accessories'] if len(x) == 0 else x\n",
    "\n",
    "# Apply the lambda function to the 'col1' column\n",
    "#data['category'] = data['category'].apply(replace_empty_list)\n",
    "\n",
    "#print(data)"
   ]
  },
  {
   "cell_type": "code",
   "execution_count": null,
   "id": "f2abff53",
   "metadata": {},
   "outputs": [],
   "source": [
    "#data['category'] = data['category'].replace(np.nan, ['Cell Phones & Accessories'])"
   ]
  },
  {
   "cell_type": "code",
   "execution_count": null,
   "id": "b09f2cfa",
   "metadata": {},
   "outputs": [],
   "source": [
    "# data['category'] = pd.Categorical(data['category'])\n",
    "\n",
    "# # Replace null values in column 'B' with a default category\n",
    "# default_category = 'Cell Phones & Accessories'\n",
    "# data['category'].fillna(default_category, inplace=True)"
   ]
  },
  {
   "cell_type": "code",
   "execution_count": null,
   "id": "d78e497c",
   "metadata": {},
   "outputs": [],
   "source": [
    "# Replace null values in column 'A' with a list of replacement values\n",
    "# data.fillna(value=['Cell Phones & Accessories'], inplace=True)"
   ]
  },
  {
   "cell_type": "code",
   "execution_count": null,
   "id": "830ac5ec",
   "metadata": {},
   "outputs": [],
   "source": [
    "data.isnull().sum()"
   ]
  },
  {
   "cell_type": "code",
   "execution_count": null,
   "id": "0fab93bc",
   "metadata": {},
   "outputs": [],
   "source": [
    "data.shape"
   ]
  },
  {
   "cell_type": "code",
   "execution_count": null,
   "id": "4d73cbfe",
   "metadata": {},
   "outputs": [],
   "source": [
    "data.info()"
   ]
  },
  {
   "cell_type": "code",
   "execution_count": null,
   "id": "2710ec10",
   "metadata": {},
   "outputs": [],
   "source": [
    "#data.to_csv('/users/STSC/Desktop/Capstone/new_cellphone_and_accessories_reviews_after_cleaning.csv', sep=',', encoding='utf-8', index = False)"
   ]
  },
  {
   "cell_type": "markdown",
   "id": "d466d7ca",
   "metadata": {},
   "source": [
    "# data['text_review'] = data[['summary', 'reviewText']].apply(lambda x: \" \".join(str(y) for y in x if str(y) != 'nan'), axis = 1)\n",
    "data_updated = data.drop(['reviewText', 'summary'], axis = 1)\n",
    "data_updated.head()"
   ]
  },
  {
   "cell_type": "code",
   "execution_count": null,
   "id": "2b5a56b0",
   "metadata": {},
   "outputs": [],
   "source": [
    "data"
   ]
  },
  {
   "cell_type": "code",
   "execution_count": null,
   "id": "be5706d3",
   "metadata": {},
   "outputs": [],
   "source": [
    "\n",
    "## concatenating summary and review text \n",
    "\n",
    "data['review_text'] = data[['summary', 'reviewText']].apply(lambda x: \" \".join(str(y) for y in x if str(y) != 'nan'), axis = 1)\n",
    "data_val = data.drop(['reviewText', 'summary'], axis = 1)\n",
    "data_val.head()"
   ]
  },
  {
   "cell_type": "code",
   "execution_count": null,
   "id": "7b5ba983",
   "metadata": {},
   "outputs": [],
   "source": [
    "## Splititing the 'helpful' column into 'positive_feedback' and 'negative_feedback' and will drop it at the end\n",
    "\n",
    "\n",
    "list_positive = []\n",
    "list_negative = []\n",
    "\n",
    "for help in data_val['helpful']:\n",
    "    list_positive.append(help[0])\n",
    "    list_negative.append(help[1] - help[0])\n",
    "    \n",
    "# Positive Feedback (Supporting reviewer's idea and find it useful)\n",
    "data_val['positive_feedback'] = list_positive\n",
    "\n",
    "# Negative Feedback (Finding reviewer's idea useless and not supporting it)\n",
    "data_val['negative_feedback'] = list_negative\n",
    "\n",
    "# Drop redundant 'helpful' column\n",
    "data_val = data_val.drop('helpful', axis = 1)\n",
    "data_val.head()"
   ]
  },
  {
   "cell_type": "code",
   "execution_count": null,
   "id": "36568211",
   "metadata": {},
   "outputs": [],
   "source": [
    "## classification of ratings\n",
    "\n",
    "good_rating = len(data_val[data_val['Rating'] >= 3])\n",
    "bad_rating = len(data_val[data_val['Rating'] < 3])\n",
    "\n",
    "# Printing ratings and their total numbers\n",
    "print ('Good ratings : {} reviews for Cellphones and Accessories '.format(good_rating))\n",
    "print ('Bad ratings : {} reviews for Cellphones and Accessories '.format(bad_rating))"
   ]
  },
  {
   "cell_type": "code",
   "execution_count": null,
   "id": "19d1df51",
   "metadata": {},
   "outputs": [],
   "source": [
    "\n",
    "# Applying the new classification to the ratings column\n",
    "\n",
    "data_val['rating_class'] = data_val['Rating'].apply(lambda x: 'bad' if x < 3 else'good')\n",
    "data_val.head()\n"
   ]
  },
  {
   "cell_type": "code",
   "execution_count": null,
   "id": "cd0f6a84",
   "metadata": {},
   "outputs": [],
   "source": [
    "\n",
    "# Applying the helpfullness ratio on the Good ratings & Bad ratings\n",
    "\n",
    "data_val['help_prop'] = data_val.positive_feedback.div((data_val.positive_feedback+data_val.negative_feedback), axis=0)\n",
    "data_val"
   ]
  },
  {
   "cell_type": "code",
   "execution_count": null,
   "id": "c1b3490b",
   "metadata": {},
   "outputs": [],
   "source": [
    "data_val.isnull().sum()"
   ]
  },
  {
   "cell_type": "code",
   "execution_count": null,
   "id": "41447615",
   "metadata": {},
   "outputs": [],
   "source": [
    "# filling helpfullness ratio NAN value with zero\n",
    "\n",
    "\n",
    "data_val['help_prop'].fillna(0, inplace=True)"
   ]
  },
  {
   "cell_type": "code",
   "execution_count": null,
   "id": "44942447",
   "metadata": {},
   "outputs": [],
   "source": [
    "\n",
    "# checking duplicates based on'reviewerName','unixReviewTime' and 'asin'columns\n",
    "\n",
    "\n",
    "\n",
    "data_val[data_val.duplicated(['reviewerName','unixReviewTime','asin'],keep= False)]"
   ]
  },
  {
   "cell_type": "code",
   "execution_count": null,
   "id": "d06baf0c",
   "metadata": {},
   "outputs": [],
   "source": [
    "data_val.shape"
   ]
  },
  {
   "cell_type": "code",
   "execution_count": null,
   "id": "ebb81809",
   "metadata": {},
   "outputs": [],
   "source": [
    "# Converting time object to datetime and create a new column named 'time'\n",
    "data_val['time'] = data_val.reviewTime.str.replace(',', \"\")\n",
    "data_val['time'] = pd.to_datetime(data_val['time'], format = '%m %d %Y')\n",
    "\n",
    "# Droping 'reviewTime' column as it is a duplication\n",
    "data_val = data_val.drop('reviewTime', axis = 1)\n",
    "data_val.head()"
   ]
  },
  {
   "cell_type": "code",
   "execution_count": null,
   "id": "e650cf7f",
   "metadata": {},
   "outputs": [],
   "source": [
    "# Renaming the columns of the data frame\n",
    "data_val.columns = ['reviewer_id','product_id','reviewer_name','rating','unix_review_time','categories','review_text','pos_feedback','neg_feedback', 'rating_class', 'help_prop','review_time']\n",
    "\n",
    "data_val.head()"
   ]
  },
  {
   "cell_type": "code",
   "execution_count": null,
   "id": "a4f0df50",
   "metadata": {},
   "outputs": [],
   "source": [
    "## DESCRIPTIVE STATISTICS\n",
    "##########################################\n",
    "\n",
    "print (\"================================================\")\n",
    "\n",
    "### Total reviews\n",
    "total = len(data_val)\n",
    "print (\"Number of reviews: \",total)\n",
    "print ()\n",
    "\n",
    "### How many unique reviewers?\n",
    "print (\"Number of unique reviewers: \",len(data_val.reviewer_id.unique()))\n",
    "reviewer_prop = float(len(data_val.reviewer_id.unique())/total)\n",
    "print (\"Prop of unique reviewers: \",round(reviewer_prop,3))\n",
    "print ()\n",
    "\n",
    "### How many unique products?\n",
    "print (\"Number of unique products: \", len(data_val.product_id.unique()))\n",
    "product_prop = float(len(data_val.product_id.unique())/total)\n",
    "print (\"Prop of unique products: \",round(product_prop,3))\n",
    "print ()\n",
    "\n",
    "### Average star score\n",
    "print (\"Average rating score: \",round(data_val.rating.mean(),3))\n",
    "\n",
    "### Average helpful ratio\n",
    "print (\"Average helpfull ratio score: \",round(data_val.help_prop.mean(),3))\n",
    "\n",
    "\n",
    "print (\"================================================\")"
   ]
  },
  {
   "cell_type": "code",
   "execution_count": null,
   "id": "3ffb1744",
   "metadata": {},
   "outputs": [],
   "source": [
    "data_val.info()"
   ]
  },
  {
   "cell_type": "code",
   "execution_count": null,
   "id": "b4470f69",
   "metadata": {},
   "outputs": [],
   "source": [
    "data_val[['rating','pos_feedback','neg_feedback','help_prop']].describe()"
   ]
  },
  {
   "cell_type": "code",
   "execution_count": null,
   "id": "c7b70ee3",
   "metadata": {},
   "outputs": [],
   "source": [
    "\n",
    "## plotting the rating\n",
    "\n",
    "plt.figure(figsize=(12,8))\n",
    "# sns.countplot(df['Rating'])\n",
    "data_val['rating'].value_counts().sort_index().plot(kind='bar')\n",
    "plt.title('Distribution of Rating')\n",
    "plt.xlabel('Rating')\n",
    "plt.ylabel('Number of Reviews')"
   ]
  },
  {
   "cell_type": "code",
   "execution_count": null,
   "id": "f11158a1",
   "metadata": {},
   "outputs": [],
   "source": [
    "\n",
    "## DISTRIBUTION OF HELPFULNESS\n",
    "\n",
    "\n",
    "plt.figure(figsize=(12,8))\n",
    "\n",
    "cutoff = np.array([0,0.1,0.2,0.3,0.4,0.5,0.6,0.7,0.8,0.9,1])\n",
    "\n",
    "\n",
    "Dist_help = data_val.groupby([pd.cut(data_val['help_prop'], bins = cutoff)]).size()\n",
    "Dist_help.plot(kind='bar')\n",
    "\n",
    "plt.title(\"Distribution of Helpfulness\")\n",
    "plt.xlabel(\"proportion of Helpfulness\")\n",
    "plt.ylabel(\"count of Reviews\")\n",
    "plt.xticks(rotation=0)\n",
    "plt.show()"
   ]
  },
  {
   "cell_type": "code",
   "execution_count": null,
   "id": "e0a6c764",
   "metadata": {},
   "outputs": [],
   "source": [
    "class_counts = data_val.groupby('rating').size()\n",
    "class_counts"
   ]
  },
  {
   "cell_type": "code",
   "execution_count": null,
   "id": "a9aa1330",
   "metadata": {},
   "outputs": [],
   "source": [
    "# Customer totals for each rating class\n",
    "data_val['rating_class'].value_counts()"
   ]
  },
  {
   "cell_type": "code",
   "execution_count": null,
   "id": "4683be65",
   "metadata": {},
   "outputs": [],
   "source": [
    "\n",
    "# Print the number of positive feedback\n",
    "\n",
    "pos = len(data_val[data_val['pos_feedback'] > 0])\n",
    "print('Number of positive feedbacks: {}'.format(pos))\n",
    "\n",
    "\n",
    "# Print the number of negative feedback\n",
    "\n",
    "neg = len(data_val[data_val['neg_feedback'] > 0])      \n",
    "print('\\nNumber of negative feedbacks: {}'.format(neg))"
   ]
  },
  {
   "cell_type": "code",
   "execution_count": null,
   "id": "b3fee2a8",
   "metadata": {},
   "outputs": [],
   "source": [
    "\n",
    "# Statistics of non-numeric variables\n",
    "\n",
    "# Number of unique customers\n",
    "print('\\nNumber of unique customers : {}'.format(len(data_val['reviewer_id'].unique())))\n",
    "      \n",
    "# Number of unique products\n",
    "print('\\nNumber of unique products : {}'.format(len(data_val['product_id'].unique())))\n",
    "      \n",
    "# Review number per unique customer\n",
    "print('\\nReview per customer: {}'.format((len(data_val)/len(data_val['reviewer_id'].unique()))))      \n",
    "\n",
    "# Review number per unique product \n",
    "print('\\nReview per product: {}'.format((len(data_val)/len(data_val['product_id'].unique()))))"
   ]
  },
  {
   "cell_type": "code",
   "execution_count": null,
   "id": "6ddfbb70",
   "metadata": {},
   "outputs": [],
   "source": [
    "import nltk\n",
    "nltk.download('punkt')\n",
    "nltk.download('stopwords')\n",
    "nltk.download('wordnet')\n",
    "from nltk.corpus import stopwords\n",
    "from bs4 import BeautifulSoup\n",
    "import unicodedata\n",
    "import contractions\n",
    "from contractions import contractions_dict\n",
    "# from contractions import CONTRACTION_MAP\n",
    "from nltk.stem import WordNetLemmatizer\n",
    "from nltk.tokenize import word_tokenize, sent_tokenize, regexp_tokenize \n",
    "from nltk.stem import PorterStemmer, WordNetLemmatizer\n",
    "import re"
   ]
  },
  {
   "cell_type": "code",
   "execution_count": null,
   "id": "eaa5cd41",
   "metadata": {},
   "outputs": [],
   "source": [
    "# calculate raw tokens in order to measure of cleaned tokens\n",
    "\n",
    "from nltk.tokenize import word_tokenize\n",
    "raw_tokens=len([w for t in (data_val[\"review_text\"].apply(word_tokenize)) for w in t])\n",
    "print('Number of raw tokens: {}'.format(raw_tokens))"
   ]
  },
  {
   "cell_type": "markdown",
   "id": "54aad47c",
   "metadata": {},
   "source": [
    "lemmitization"
   ]
  },
  {
   "cell_type": "code",
   "execution_count": null,
   "id": "cc2f92d4",
   "metadata": {},
   "outputs": [],
   "source": [
    "import re, string, unicodedata\n",
    "import nltk\n",
    "import contractions\n",
    "from bs4 import BeautifulSoup\n",
    "from nltk import word_tokenize, sent_tokenize\n",
    "from nltk.corpus import stopwords\n",
    "from nltk.stem.lancaster import LancasterStemmer\n",
    "from nltk.stem import WordNetLemmatizer\n",
    "#from contractions import CONTRACTION_MAP"
   ]
  },
  {
   "cell_type": "code",
   "execution_count": null,
   "id": "2702baab",
   "metadata": {},
   "outputs": [],
   "source": [
    "def strip_html(text):\n",
    "    soup = BeautifulSoup(text, \"html.parser\")\n",
    "    return soup.get_text()\n",
    "\n",
    "def remove_between_square_brackets(text):\n",
    "    return re.sub('\\[[^]]*\\]', '', text)\n",
    "\n",
    "def denoise_text(text):\n",
    "    text = strip_html(text)\n",
    "    text = remove_between_square_brackets(text)\n",
    "    return text\n",
    "\n",
    "\n",
    "\n",
    "# Define function to expand contractions\n",
    "def expand_contractions(text):\n",
    "    contractions_pattern = re.compile('({})'.format('|'.join(CONTRACTION_MAP.keys())),flags=re.IGNORECASE|re.DOTALL)\n",
    "    def expand_match(contraction):\n",
    "        match = contraction.group(0)\n",
    "        first_char = match[0]\n",
    "        expanded_contraction = CONTRACTION_MAP.get(match)\\\n",
    "                        if CONTRACTION_MAP.get(match)\\\n",
    "                        else CONTRACTION_MAP.get(match.lower())\n",
    "        expanded_contraction = first_char+expanded_contraction[1:]\n",
    "        return expanded_contraction\n",
    "    \n",
    "    expanded_text = contractions_pattern.sub(expand_match, text)\n",
    "    expanded_text = re.sub(\"'\", \"\", expanded_text)\n",
    "    return expanded_text\n",
    "\n",
    "\n",
    "# special_characters removal\n",
    "def remove_special_characters(text, remove_digits=True):\n",
    "    pattern = r'[^a-zA-z0-9\\s]' if not remove_digits else r'[^a-zA-z\\s]'\n",
    "    text = re.sub(pattern, '', text)\n",
    "    return text\n",
    "\n",
    "\n",
    "def remove_non_ascii(words):\n",
    "    \"\"\"Remove non-ASCII characters from list of tokenized words\"\"\"\n",
    "    new_words = []\n",
    "    for word in words:\n",
    "        new_word = unicodedata.normalize('NFKD', word).encode('ascii', 'ignore').decode('utf-8', 'ignore')\n",
    "        new_words.append(new_word)\n",
    "    return new_words\n",
    "def to_lowercase(words):\n",
    "    \"\"\"Convert all characters to lowercase from list of tokenized words\"\"\"\n",
    "    new_words = []\n",
    "    for word in words:\n",
    "        new_word = word.lower()\n",
    "        new_words.append(new_word)\n",
    "    return new_words\n",
    "\n",
    "\n",
    "def remove_punctuation_and_splchars(words):\n",
    "    \"\"\"Remove punctuation from list of tokenized words\"\"\"\n",
    "    new_words = []\n",
    "    for word in words:\n",
    "        new_word = re.sub(r'[^\\w\\s]', '', word)\n",
    "        if new_word != '':\n",
    "            new_word = remove_special_characters(new_word, True)\n",
    "            new_words.append(new_word)\n",
    "    return new_words\n",
    "\n",
    "def replace_numbers(words):\n",
    "    \"\"\"Replace all interger occurrences in list of tokenized words with textual representation\"\"\"\n",
    "    p = inflect.engine()\n",
    "    new_words = []\n",
    "    for word in words:\n",
    "        if word.isdigit():\n",
    "            new_word = p.number_to_words(word)\n",
    "            new_words.append(new_word)\n",
    "        else:\n",
    "            new_words.append(word)\n",
    "    return new_words\n",
    "stopword_list= stopwords.words('english')\n",
    "stopword_list.remove('no')\n",
    "stopword_list.remove('not')\n",
    "\n",
    "\n",
    "def remove_stopwords(words):\n",
    "    \"\"\"Remove stop words from list of tokenized words\"\"\"\n",
    "    new_words = []\n",
    "    for word in words:\n",
    "        if word not in stopword_list:\n",
    "            new_words.append(word)\n",
    "    return new_words\n",
    "\n",
    "def stem_words(words):\n",
    "    \"\"\"Stem words in list of tokenized words\"\"\"\n",
    "    stemmer = LancasterStemmer()\n",
    "    stems = []\n",
    "    for word in words:\n",
    "        stem = stemmer.stem(word)\n",
    "        stems.append(stem)\n",
    "    return stems\n",
    "\n",
    "def lemmatize_verbs(words):\n",
    "    \"\"\"Lemmatize verbs in list of tokenized words\"\"\"\n",
    "    lemmatizer = WordNetLemmatizer()\n",
    "    lemmas = []\n",
    "    for word in words:\n",
    "        lemma = lemmatizer.lemmatize(word, pos='v')\n",
    "        lemmas.append(lemma)\n",
    "    return lemmas\n",
    "def normalize(words):\n",
    "    words = remove_non_ascii(words)\n",
    "    words = to_lowercase(words)\n",
    "    words = remove_punctuation_and_splchars(words)\n",
    "    words = remove_stopwords(words)\n",
    "    return words\n",
    "\n",
    "def lemmatize(words):\n",
    "    lemmas = lemmatize_verbs(words)\n",
    "    return lemmas"
   ]
  },
  {
   "cell_type": "code",
   "execution_count": null,
   "id": "b0fc5171",
   "metadata": {},
   "outputs": [],
   "source": [
    "def normalize_and_lemmaize(input):\n",
    "    sample = denoise_text(input)\n",
    "    sample = expand_contractions(sample)\n",
    "    sample = remove_special_characters(sample)\n",
    "    words = nltk.word_tokenize(sample)\n",
    "    words = normalize(words)\n",
    "    lemmas = lemmatize(words)\n",
    "    return ' '.join(lemmas)"
   ]
  },
  {
   "cell_type": "code",
   "execution_count": null,
   "id": "8396056c",
   "metadata": {},
   "outputs": [],
   "source": [
    "pip install contractions"
   ]
  },
  {
   "cell_type": "code",
   "execution_count": null,
   "id": "792e431e",
   "metadata": {},
   "outputs": [],
   "source": [
    "pip install --upgrade contractions"
   ]
  },
  {
   "cell_type": "code",
   "execution_count": null,
   "id": "bda26e4b",
   "metadata": {},
   "outputs": [],
   "source": [
    "pip show contractions"
   ]
  },
  {
   "cell_type": "code",
   "execution_count": null,
   "id": "a1edcf0e",
   "metadata": {},
   "outputs": [],
   "source": [
    "pip freeze"
   ]
  },
  {
   "cell_type": "code",
   "execution_count": null,
   "id": "e615dde3",
   "metadata": {},
   "outputs": [],
   "source": [
    "conda install contractions"
   ]
  },
  {
   "cell_type": "code",
   "execution_count": null,
   "id": "2db11f1a",
   "metadata": {},
   "outputs": [],
   "source": [
    "!pip install contractions"
   ]
  },
  {
   "cell_type": "code",
   "execution_count": null,
   "id": "19fc2287",
   "metadata": {},
   "outputs": [],
   "source": [
    "conda install pycontractions"
   ]
  },
  {
   "cell_type": "code",
   "execution_count": null,
   "id": "d25f590d",
   "metadata": {},
   "outputs": [],
   "source": [
    "# from contractions import CONTRACTION_MAP\n",
    "#import contractions\n",
    "# import CONTRACTION_MAP\n",
    "#from contractions import CONTRACTION_MAP\n",
    "#from contractions_dict import CONTRACTION_MAP\n",
    "#import pycontractions"
   ]
  },
  {
   "cell_type": "code",
   "execution_count": null,
   "id": "ecf9c429",
   "metadata": {},
   "outputs": [],
   "source": [
    "import spacy\n",
    "\n",
    "nlp = spacy.load('en_core_web_sm')\n",
    "print(nlp.path)\n"
   ]
  },
  {
   "cell_type": "code",
   "execution_count": null,
   "id": "2e8e5e5e",
   "metadata": {},
   "outputs": [],
   "source": [
    "import spacy\n",
    "\n",
    "nlp = spacy.load('en_core_web_sm')  # Load the English language model\n",
    "\n",
    "def normalize_and_lemmaize(text):\n",
    "    doc = nlp(text)  # Parse the text using spaCy\n",
    "    normalized_text = ' '.join(token.lemma_.lower() for token in doc if not token.is_stop and token.is_alpha)  # Lemmatize and normalize the text\n",
    "    return normalized_text\n"
   ]
  },
  {
   "cell_type": "code",
   "execution_count": null,
   "id": "9b4f4714",
   "metadata": {},
   "outputs": [],
   "source": [
    "#from tqdm import tqdm\n",
    "#import time\n",
    "\n",
    "#for i in tqdm(range(10)):\n",
    "#    time.sleep(1)\n",
    "data_val['clean_text'] = data_val['review_text'].map(lambda text: normalize_and_lemmaize(text))\n",
    "\n"
   ]
  },
  {
   "cell_type": "code",
   "execution_count": null,
   "id": "a81c8c60",
   "metadata": {},
   "outputs": [],
   "source": [
    "# Let's put aside number of raw tokens in order to measure of cleaned tokens\n",
    "#from nltk.tokenize import word_tokenize\n",
    "#clean_tokens=len([w for t in (data_val[\"clean_text\"].apply(word_tokenize)) for w in t])\n",
    "#clean_tokens=len((product_reviews_hp4[\"clean_text\"]))\n",
    "#print('Number of clean tokens: {}\\n'.format(clean_tokens))\n",
    "#print('Percentage of removed tokens: {0:.2f}'.format(1-(clean_tokens/raw_tokens)))"
   ]
  },
  {
   "cell_type": "code",
   "execution_count": null,
   "id": "50691a03",
   "metadata": {},
   "outputs": [],
   "source": [
    "data_val.to_csv('/users/STSC/Desktop/datacleaned6.csv', sep=',', encoding='utf-8', index = False)"
   ]
  },
  {
   "cell_type": "code",
   "execution_count": null,
   "id": "6354c016",
   "metadata": {},
   "outputs": [],
   "source": []
  }
 ],
 "metadata": {
  "kernelspec": {
   "display_name": "Python 3 (ipykernel)",
   "language": "python",
   "name": "python3"
  },
  "language_info": {
   "codemirror_mode": {
    "name": "ipython",
    "version": 3
   },
   "file_extension": ".py",
   "mimetype": "text/x-python",
   "name": "python",
   "nbconvert_exporter": "python",
   "pygments_lexer": "ipython3",
   "version": "3.9.12"
  }
 },
 "nbformat": 4,
 "nbformat_minor": 5
}
