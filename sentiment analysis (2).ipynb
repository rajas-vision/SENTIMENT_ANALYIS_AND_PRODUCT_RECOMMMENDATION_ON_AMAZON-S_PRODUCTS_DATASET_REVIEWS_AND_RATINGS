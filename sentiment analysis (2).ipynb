{
 "cells": [
  {
   "cell_type": "markdown",
   "id": "efa45838",
   "metadata": {},
   "source": [
    "# Sentiment Analysis"
   ]
  },
  {
   "cell_type": "markdown",
   "id": "21c4a8d8",
   "metadata": {},
   "source": [
    "## Importing the required libraries"
   ]
  },
  {
   "cell_type": "code",
   "execution_count": 1,
   "id": "64d4598f",
   "metadata": {},
   "outputs": [],
   "source": [
    "import numpy as np\n",
    "import pandas as pd"
   ]
  },
  {
   "cell_type": "code",
   "execution_count": 2,
   "id": "78bc2a6d",
   "metadata": {},
   "outputs": [],
   "source": [
    "# Decompress the file\n",
    "import gzip\n",
    "\n",
    "# Visualizations\n",
    "import matplotlib.pyplot as plt\n",
    "from matplotlib.colors import ListedColormap\n",
    "import seaborn as sns\n",
    "import matplotlib.colors as colors\n",
    "%matplotlib inline\n",
    "\n",
    "\n",
    "# Datetime\n",
    "from datetime import datetime\n",
    "\n",
    "# text preprocessing\n",
    "\n",
    "import nltk\n",
    "from nltk.corpus import stopwords\n",
    "from nltk.stem import PorterStemmer, WordNetLemmatizer\n",
    "from nltk.tokenize import word_tokenize, sent_tokenize, regexp_tokenize\n",
    "from nltk.tokenize import RegexpTokenizer\n",
    "from nltk.tokenize.toktok import ToktokTokenizer\n",
    "import gensim\n",
    "import re\n"
   ]
  },
  {
   "cell_type": "code",
   "execution_count": 3,
   "id": "0e89364e",
   "metadata": {},
   "outputs": [
    {
     "name": "stdout",
     "output_type": "stream",
     "text": [
      "Requirement already satisfied: xgboost in c:\\users\\stsc\\anaconda3\\lib\\site-packages (1.7.6)\n",
      "Requirement already satisfied: scipy in c:\\users\\stsc\\anaconda3\\lib\\site-packages (from xgboost) (1.7.3)\n",
      "Requirement already satisfied: numpy in c:\\users\\stsc\\anaconda3\\lib\\site-packages (from xgboost) (1.22.4)\n",
      "Note: you may need to restart the kernel to use updated packages.\n"
     ]
    }
   ],
   "source": [
    "pip install xgboost"
   ]
  },
  {
   "cell_type": "code",
   "execution_count": 4,
   "id": "c050c22a",
   "metadata": {},
   "outputs": [],
   "source": [
    "## Modeling\n",
    "from sklearn.model_selection import cross_validate\n",
    "from sklearn.model_selection import train_test_split\n",
    "from sklearn.model_selection import StratifiedKFold\n",
    "from sklearn.model_selection import GridSearchCV\n",
    "from sklearn.model_selection import cross_val_predict\n",
    "from sklearn.model_selection import cross_val_score\n",
    "from sklearn.linear_model import LogisticRegression\n",
    "from sklearn.model_selection import learning_curve\n",
    "from sklearn.ensemble import ExtraTreesClassifier\n",
    "from sklearn.decomposition import TruncatedSVD\n",
    "from sklearn.feature_extraction.text import TfidfVectorizer, CountVectorizer, HashingVectorizer\n",
    "from sklearn.pipeline import Pipeline\n",
    "from sklearn.naive_bayes import MultinomialNB\n",
    "from sklearn.naive_bayes import GaussianNB \n",
    "from sklearn.svm import SVC\n",
    "from sklearn import metrics\n",
    "from sklearn.metrics import classification_report\n",
    "from sklearn.metrics import confusion_matrix\n",
    "from  sklearn.metrics import precision_recall_fscore_support\n",
    "from sklearn.ensemble import RandomForestClassifier\n",
    "from sklearn.ensemble import AdaBoostClassifier, GradientBoostingClassifier\n",
    "from sklearn.tree import DecisionTreeClassifier\n",
    "from sklearn.metrics import f1_score\n",
    "from sklearn.metrics import recall_score\n",
    "from gensim.models import Word2Vec\n",
    "from tqdm import tqdm\n",
    "import xgboost as xgb\n",
    "from xgboost import XGBClassifier\n",
    "from sklearn.dummy import DummyClassifier\n",
    "\n",
    "## Warnings\n",
    "import warnings\n",
    "from scipy import stats\n",
    "warnings.filterwarnings('ignore')"
   ]
  },
  {
   "cell_type": "code",
   "execution_count": 5,
   "id": "adb40c4d",
   "metadata": {},
   "outputs": [],
   "source": [
    "data=pd.read_csv('/users/STSC/Desktop/datacleaned6.csv')"
   ]
  },
  {
   "cell_type": "code",
   "execution_count": 6,
   "id": "07b8e932",
   "metadata": {},
   "outputs": [
    {
     "data": {
      "text/html": [
       "<div>\n",
       "<style scoped>\n",
       "    .dataframe tbody tr th:only-of-type {\n",
       "        vertical-align: middle;\n",
       "    }\n",
       "\n",
       "    .dataframe tbody tr th {\n",
       "        vertical-align: top;\n",
       "    }\n",
       "\n",
       "    .dataframe thead th {\n",
       "        text-align: right;\n",
       "    }\n",
       "</style>\n",
       "<table border=\"1\" class=\"dataframe\">\n",
       "  <thead>\n",
       "    <tr style=\"text-align: right;\">\n",
       "      <th></th>\n",
       "      <th>reviewer_id</th>\n",
       "      <th>product_id</th>\n",
       "      <th>reviewer_name</th>\n",
       "      <th>rating</th>\n",
       "      <th>unix_review_time</th>\n",
       "      <th>categories</th>\n",
       "      <th>review_text</th>\n",
       "      <th>pos_feedback</th>\n",
       "      <th>neg_feedback</th>\n",
       "      <th>rating_class</th>\n",
       "      <th>help_prop</th>\n",
       "      <th>review_time</th>\n",
       "      <th>clean_text</th>\n",
       "    </tr>\n",
       "  </thead>\n",
       "  <tbody>\n",
       "    <tr>\n",
       "      <th>0</th>\n",
       "      <td>A30TL5EWN6DFXT</td>\n",
       "      <td>120401325X</td>\n",
       "      <td>christina</td>\n",
       "      <td>4</td>\n",
       "      <td>1400630400</td>\n",
       "      <td>['Cell Phones &amp; Accessories']</td>\n",
       "      <td>Looks Good They look good and stick good! I ju...</td>\n",
       "      <td>0</td>\n",
       "      <td>0</td>\n",
       "      <td>good</td>\n",
       "      <td>0.000000</td>\n",
       "      <td>2014-05-21</td>\n",
       "      <td>look good look good stick good like rounded sh...</td>\n",
       "    </tr>\n",
       "    <tr>\n",
       "      <th>1</th>\n",
       "      <td>ASY55RVNIL0UD</td>\n",
       "      <td>120401325X</td>\n",
       "      <td>emily l.</td>\n",
       "      <td>5</td>\n",
       "      <td>1389657600</td>\n",
       "      <td>['Cell Phones &amp; Accessories']</td>\n",
       "      <td>Really great product. These stickers work like...</td>\n",
       "      <td>0</td>\n",
       "      <td>0</td>\n",
       "      <td>good</td>\n",
       "      <td>0.000000</td>\n",
       "      <td>2014-01-14</td>\n",
       "      <td>great product sticker work like review say sti...</td>\n",
       "    </tr>\n",
       "    <tr>\n",
       "      <th>2</th>\n",
       "      <td>A2TMXE2AFO7ONB</td>\n",
       "      <td>120401325X</td>\n",
       "      <td>Erica</td>\n",
       "      <td>5</td>\n",
       "      <td>1403740800</td>\n",
       "      <td>['Cell Phones &amp; Accessories']</td>\n",
       "      <td>LOVE LOVE LOVE These are awesome and make my p...</td>\n",
       "      <td>0</td>\n",
       "      <td>0</td>\n",
       "      <td>good</td>\n",
       "      <td>0.000000</td>\n",
       "      <td>2014-06-26</td>\n",
       "      <td>love love love awesome phone look stylish far ...</td>\n",
       "    </tr>\n",
       "    <tr>\n",
       "      <th>3</th>\n",
       "      <td>AWJ0WZQYMYFQ4</td>\n",
       "      <td>120401325X</td>\n",
       "      <td>JM</td>\n",
       "      <td>4</td>\n",
       "      <td>1382313600</td>\n",
       "      <td>['Cell Phones &amp; Accessories']</td>\n",
       "      <td>Cute! Item arrived in great time and was in pe...</td>\n",
       "      <td>4</td>\n",
       "      <td>0</td>\n",
       "      <td>good</td>\n",
       "      <td>1.000000</td>\n",
       "      <td>2013-10-21</td>\n",
       "      <td>cute item arrive great time perfect condition ...</td>\n",
       "    </tr>\n",
       "    <tr>\n",
       "      <th>4</th>\n",
       "      <td>ATX7CZYFXI1KW</td>\n",
       "      <td>120401325X</td>\n",
       "      <td>patrice m rogoza</td>\n",
       "      <td>5</td>\n",
       "      <td>1359849600</td>\n",
       "      <td>['Cell Phones &amp; Accessories']</td>\n",
       "      <td>leopard home button sticker for iphone 4s awes...</td>\n",
       "      <td>2</td>\n",
       "      <td>1</td>\n",
       "      <td>good</td>\n",
       "      <td>0.666667</td>\n",
       "      <td>2013-02-03</td>\n",
       "      <td>leopard home button sticker iphone awesome sta...</td>\n",
       "    </tr>\n",
       "    <tr>\n",
       "      <th>...</th>\n",
       "      <td>...</td>\n",
       "      <td>...</td>\n",
       "      <td>...</td>\n",
       "      <td>...</td>\n",
       "      <td>...</td>\n",
       "      <td>...</td>\n",
       "      <td>...</td>\n",
       "      <td>...</td>\n",
       "      <td>...</td>\n",
       "      <td>...</td>\n",
       "      <td>...</td>\n",
       "      <td>...</td>\n",
       "      <td>...</td>\n",
       "    </tr>\n",
       "    <tr>\n",
       "      <th>190991</th>\n",
       "      <td>A1YMNTFLNDYQ1F</td>\n",
       "      <td>B00LORXVUE</td>\n",
       "      <td>eyeused2loveher</td>\n",
       "      <td>5</td>\n",
       "      <td>1405900800</td>\n",
       "      <td>['Cell Phones &amp; Accessories']</td>\n",
       "      <td>This works just perfect! Works great just like...</td>\n",
       "      <td>0</td>\n",
       "      <td>0</td>\n",
       "      <td>good</td>\n",
       "      <td>0.000000</td>\n",
       "      <td>2014-07-21</td>\n",
       "      <td>work perfect work great like original need ext...</td>\n",
       "    </tr>\n",
       "    <tr>\n",
       "      <th>190992</th>\n",
       "      <td>A15TX8B2L8B20S</td>\n",
       "      <td>B00LORXVUE</td>\n",
       "      <td>Jon Davidson</td>\n",
       "      <td>5</td>\n",
       "      <td>1405900800</td>\n",
       "      <td>['Cell Phones &amp; Accessories']</td>\n",
       "      <td>Great replacement cable. Apple certified Great...</td>\n",
       "      <td>0</td>\n",
       "      <td>0</td>\n",
       "      <td>good</td>\n",
       "      <td>0.000000</td>\n",
       "      <td>2014-07-21</td>\n",
       "      <td>great replacement cable apple certify great pr...</td>\n",
       "    </tr>\n",
       "    <tr>\n",
       "      <th>190993</th>\n",
       "      <td>A3JI7QRZO1QG8X</td>\n",
       "      <td>B00LORXVUE</td>\n",
       "      <td>Joyce M. Davidson</td>\n",
       "      <td>5</td>\n",
       "      <td>1405900800</td>\n",
       "      <td>['Cell Phones &amp; Accessories']</td>\n",
       "      <td>Real quality This is a great cable, just as go...</td>\n",
       "      <td>0</td>\n",
       "      <td>0</td>\n",
       "      <td>good</td>\n",
       "      <td>0.000000</td>\n",
       "      <td>2014-07-21</td>\n",
       "      <td>real quality great cable good expensive apple ...</td>\n",
       "    </tr>\n",
       "    <tr>\n",
       "      <th>190994</th>\n",
       "      <td>A1NHB2VC68YQNM</td>\n",
       "      <td>B00LORXVUE</td>\n",
       "      <td>Nurse Farrugia</td>\n",
       "      <td>5</td>\n",
       "      <td>1405814400</td>\n",
       "      <td>['Cell Phones &amp; Accessories']</td>\n",
       "      <td>I really like it becasue it works well with my...</td>\n",
       "      <td>0</td>\n",
       "      <td>0</td>\n",
       "      <td>good</td>\n",
       "      <td>0.000000</td>\n",
       "      <td>2014-07-20</td>\n",
       "      <td>like becasue work life proof like becasue work...</td>\n",
       "    </tr>\n",
       "    <tr>\n",
       "      <th>190995</th>\n",
       "      <td>A1AG6U022WHXBF</td>\n",
       "      <td>B00LORXVUE</td>\n",
       "      <td>Trisha Crocker</td>\n",
       "      <td>5</td>\n",
       "      <td>1405900800</td>\n",
       "      <td>['Cell Phones &amp; Accessories']</td>\n",
       "      <td>I have wasted a lot of money on cords product ...</td>\n",
       "      <td>0</td>\n",
       "      <td>0</td>\n",
       "      <td>good</td>\n",
       "      <td>0.000000</td>\n",
       "      <td>2014-07-21</td>\n",
       "      <td>waste lot money cord product describe waste lo...</td>\n",
       "    </tr>\n",
       "  </tbody>\n",
       "</table>\n",
       "<p>190996 rows × 13 columns</p>\n",
       "</div>"
      ],
      "text/plain": [
       "           reviewer_id  product_id      reviewer_name  rating  \\\n",
       "0       A30TL5EWN6DFXT  120401325X          christina       4   \n",
       "1        ASY55RVNIL0UD  120401325X           emily l.       5   \n",
       "2       A2TMXE2AFO7ONB  120401325X              Erica       5   \n",
       "3        AWJ0WZQYMYFQ4  120401325X                 JM       4   \n",
       "4        ATX7CZYFXI1KW  120401325X   patrice m rogoza       5   \n",
       "...                ...         ...                ...     ...   \n",
       "190991  A1YMNTFLNDYQ1F  B00LORXVUE    eyeused2loveher       5   \n",
       "190992  A15TX8B2L8B20S  B00LORXVUE       Jon Davidson       5   \n",
       "190993  A3JI7QRZO1QG8X  B00LORXVUE  Joyce M. Davidson       5   \n",
       "190994  A1NHB2VC68YQNM  B00LORXVUE     Nurse Farrugia       5   \n",
       "190995  A1AG6U022WHXBF  B00LORXVUE     Trisha Crocker       5   \n",
       "\n",
       "        unix_review_time                     categories  \\\n",
       "0             1400630400  ['Cell Phones & Accessories']   \n",
       "1             1389657600  ['Cell Phones & Accessories']   \n",
       "2             1403740800  ['Cell Phones & Accessories']   \n",
       "3             1382313600  ['Cell Phones & Accessories']   \n",
       "4             1359849600  ['Cell Phones & Accessories']   \n",
       "...                  ...                            ...   \n",
       "190991        1405900800  ['Cell Phones & Accessories']   \n",
       "190992        1405900800  ['Cell Phones & Accessories']   \n",
       "190993        1405900800  ['Cell Phones & Accessories']   \n",
       "190994        1405814400  ['Cell Phones & Accessories']   \n",
       "190995        1405900800  ['Cell Phones & Accessories']   \n",
       "\n",
       "                                              review_text  pos_feedback  \\\n",
       "0       Looks Good They look good and stick good! I ju...             0   \n",
       "1       Really great product. These stickers work like...             0   \n",
       "2       LOVE LOVE LOVE These are awesome and make my p...             0   \n",
       "3       Cute! Item arrived in great time and was in pe...             4   \n",
       "4       leopard home button sticker for iphone 4s awes...             2   \n",
       "...                                                   ...           ...   \n",
       "190991  This works just perfect! Works great just like...             0   \n",
       "190992  Great replacement cable. Apple certified Great...             0   \n",
       "190993  Real quality This is a great cable, just as go...             0   \n",
       "190994  I really like it becasue it works well with my...             0   \n",
       "190995  I have wasted a lot of money on cords product ...             0   \n",
       "\n",
       "        neg_feedback rating_class  help_prop review_time  \\\n",
       "0                  0         good   0.000000  2014-05-21   \n",
       "1                  0         good   0.000000  2014-01-14   \n",
       "2                  0         good   0.000000  2014-06-26   \n",
       "3                  0         good   1.000000  2013-10-21   \n",
       "4                  1         good   0.666667  2013-02-03   \n",
       "...              ...          ...        ...         ...   \n",
       "190991             0         good   0.000000  2014-07-21   \n",
       "190992             0         good   0.000000  2014-07-21   \n",
       "190993             0         good   0.000000  2014-07-21   \n",
       "190994             0         good   0.000000  2014-07-20   \n",
       "190995             0         good   0.000000  2014-07-21   \n",
       "\n",
       "                                               clean_text  \n",
       "0       look good look good stick good like rounded sh...  \n",
       "1       great product sticker work like review say sti...  \n",
       "2       love love love awesome phone look stylish far ...  \n",
       "3       cute item arrive great time perfect condition ...  \n",
       "4       leopard home button sticker iphone awesome sta...  \n",
       "...                                                   ...  \n",
       "190991  work perfect work great like original need ext...  \n",
       "190992  great replacement cable apple certify great pr...  \n",
       "190993  real quality great cable good expensive apple ...  \n",
       "190994  like becasue work life proof like becasue work...  \n",
       "190995  waste lot money cord product describe waste lo...  \n",
       "\n",
       "[190996 rows x 13 columns]"
      ]
     },
     "execution_count": 6,
     "metadata": {},
     "output_type": "execute_result"
    }
   ],
   "source": [
    "data"
   ]
  },
  {
   "cell_type": "code",
   "execution_count": 7,
   "id": "fa095505",
   "metadata": {},
   "outputs": [
    {
     "name": "stdout",
     "output_type": "stream",
     "text": [
      "<class 'pandas.core.frame.DataFrame'>\n",
      "RangeIndex: 190996 entries, 0 to 190995\n",
      "Data columns (total 13 columns):\n",
      " #   Column            Non-Null Count   Dtype  \n",
      "---  ------            --------------   -----  \n",
      " 0   reviewer_id       190996 non-null  object \n",
      " 1   product_id        190996 non-null  object \n",
      " 2   reviewer_name     190990 non-null  object \n",
      " 3   rating            190996 non-null  int64  \n",
      " 4   unix_review_time  190996 non-null  int64  \n",
      " 5   categories        190996 non-null  object \n",
      " 6   review_text       190996 non-null  object \n",
      " 7   pos_feedback      190996 non-null  int64  \n",
      " 8   neg_feedback      190996 non-null  int64  \n",
      " 9   rating_class      190996 non-null  object \n",
      " 10  help_prop         190996 non-null  float64\n",
      " 11  review_time       190996 non-null  object \n",
      " 12  clean_text        190987 non-null  object \n",
      "dtypes: float64(1), int64(4), object(8)\n",
      "memory usage: 18.9+ MB\n"
     ]
    }
   ],
   "source": [
    "data.info()"
   ]
  },
  {
   "cell_type": "markdown",
   "id": "0c34a824",
   "metadata": {},
   "source": [
    "## Data Preprocessing"
   ]
  },
  {
   "cell_type": "code",
   "execution_count": 8,
   "id": "00a15200",
   "metadata": {},
   "outputs": [],
   "source": [
    "data['rating_class'] = data['rating_class'].apply(lambda x: 0 if x == 'bad' else 1)"
   ]
  },
  {
   "cell_type": "code",
   "execution_count": 9,
   "id": "1993812b",
   "metadata": {},
   "outputs": [
    {
     "data": {
      "text/html": [
       "<div>\n",
       "<style scoped>\n",
       "    .dataframe tbody tr th:only-of-type {\n",
       "        vertical-align: middle;\n",
       "    }\n",
       "\n",
       "    .dataframe tbody tr th {\n",
       "        vertical-align: top;\n",
       "    }\n",
       "\n",
       "    .dataframe thead th {\n",
       "        text-align: right;\n",
       "    }\n",
       "</style>\n",
       "<table border=\"1\" class=\"dataframe\">\n",
       "  <thead>\n",
       "    <tr style=\"text-align: right;\">\n",
       "      <th></th>\n",
       "      <th>reviewer_id</th>\n",
       "      <th>product_id</th>\n",
       "      <th>reviewer_name</th>\n",
       "      <th>rating</th>\n",
       "      <th>unix_review_time</th>\n",
       "      <th>categories</th>\n",
       "      <th>review_text</th>\n",
       "      <th>pos_feedback</th>\n",
       "      <th>neg_feedback</th>\n",
       "      <th>rating_class</th>\n",
       "      <th>help_prop</th>\n",
       "      <th>review_time</th>\n",
       "      <th>clean_text</th>\n",
       "    </tr>\n",
       "  </thead>\n",
       "  <tbody>\n",
       "    <tr>\n",
       "      <th>0</th>\n",
       "      <td>A30TL5EWN6DFXT</td>\n",
       "      <td>120401325X</td>\n",
       "      <td>christina</td>\n",
       "      <td>4</td>\n",
       "      <td>1400630400</td>\n",
       "      <td>['Cell Phones &amp; Accessories']</td>\n",
       "      <td>Looks Good They look good and stick good! I ju...</td>\n",
       "      <td>0</td>\n",
       "      <td>0</td>\n",
       "      <td>1</td>\n",
       "      <td>0.000000</td>\n",
       "      <td>2014-05-21</td>\n",
       "      <td>look good look good stick good like rounded sh...</td>\n",
       "    </tr>\n",
       "    <tr>\n",
       "      <th>1</th>\n",
       "      <td>ASY55RVNIL0UD</td>\n",
       "      <td>120401325X</td>\n",
       "      <td>emily l.</td>\n",
       "      <td>5</td>\n",
       "      <td>1389657600</td>\n",
       "      <td>['Cell Phones &amp; Accessories']</td>\n",
       "      <td>Really great product. These stickers work like...</td>\n",
       "      <td>0</td>\n",
       "      <td>0</td>\n",
       "      <td>1</td>\n",
       "      <td>0.000000</td>\n",
       "      <td>2014-01-14</td>\n",
       "      <td>great product sticker work like review say sti...</td>\n",
       "    </tr>\n",
       "    <tr>\n",
       "      <th>2</th>\n",
       "      <td>A2TMXE2AFO7ONB</td>\n",
       "      <td>120401325X</td>\n",
       "      <td>Erica</td>\n",
       "      <td>5</td>\n",
       "      <td>1403740800</td>\n",
       "      <td>['Cell Phones &amp; Accessories']</td>\n",
       "      <td>LOVE LOVE LOVE These are awesome and make my p...</td>\n",
       "      <td>0</td>\n",
       "      <td>0</td>\n",
       "      <td>1</td>\n",
       "      <td>0.000000</td>\n",
       "      <td>2014-06-26</td>\n",
       "      <td>love love love awesome phone look stylish far ...</td>\n",
       "    </tr>\n",
       "    <tr>\n",
       "      <th>3</th>\n",
       "      <td>AWJ0WZQYMYFQ4</td>\n",
       "      <td>120401325X</td>\n",
       "      <td>JM</td>\n",
       "      <td>4</td>\n",
       "      <td>1382313600</td>\n",
       "      <td>['Cell Phones &amp; Accessories']</td>\n",
       "      <td>Cute! Item arrived in great time and was in pe...</td>\n",
       "      <td>4</td>\n",
       "      <td>0</td>\n",
       "      <td>1</td>\n",
       "      <td>1.000000</td>\n",
       "      <td>2013-10-21</td>\n",
       "      <td>cute item arrive great time perfect condition ...</td>\n",
       "    </tr>\n",
       "    <tr>\n",
       "      <th>4</th>\n",
       "      <td>ATX7CZYFXI1KW</td>\n",
       "      <td>120401325X</td>\n",
       "      <td>patrice m rogoza</td>\n",
       "      <td>5</td>\n",
       "      <td>1359849600</td>\n",
       "      <td>['Cell Phones &amp; Accessories']</td>\n",
       "      <td>leopard home button sticker for iphone 4s awes...</td>\n",
       "      <td>2</td>\n",
       "      <td>1</td>\n",
       "      <td>1</td>\n",
       "      <td>0.666667</td>\n",
       "      <td>2013-02-03</td>\n",
       "      <td>leopard home button sticker iphone awesome sta...</td>\n",
       "    </tr>\n",
       "  </tbody>\n",
       "</table>\n",
       "</div>"
      ],
      "text/plain": [
       "      reviewer_id  product_id     reviewer_name  rating  unix_review_time  \\\n",
       "0  A30TL5EWN6DFXT  120401325X         christina       4        1400630400   \n",
       "1   ASY55RVNIL0UD  120401325X          emily l.       5        1389657600   \n",
       "2  A2TMXE2AFO7ONB  120401325X             Erica       5        1403740800   \n",
       "3   AWJ0WZQYMYFQ4  120401325X                JM       4        1382313600   \n",
       "4   ATX7CZYFXI1KW  120401325X  patrice m rogoza       5        1359849600   \n",
       "\n",
       "                      categories  \\\n",
       "0  ['Cell Phones & Accessories']   \n",
       "1  ['Cell Phones & Accessories']   \n",
       "2  ['Cell Phones & Accessories']   \n",
       "3  ['Cell Phones & Accessories']   \n",
       "4  ['Cell Phones & Accessories']   \n",
       "\n",
       "                                         review_text  pos_feedback  \\\n",
       "0  Looks Good They look good and stick good! I ju...             0   \n",
       "1  Really great product. These stickers work like...             0   \n",
       "2  LOVE LOVE LOVE These are awesome and make my p...             0   \n",
       "3  Cute! Item arrived in great time and was in pe...             4   \n",
       "4  leopard home button sticker for iphone 4s awes...             2   \n",
       "\n",
       "   neg_feedback  rating_class  help_prop review_time  \\\n",
       "0             0             1   0.000000  2014-05-21   \n",
       "1             0             1   0.000000  2014-01-14   \n",
       "2             0             1   0.000000  2014-06-26   \n",
       "3             0             1   1.000000  2013-10-21   \n",
       "4             1             1   0.666667  2013-02-03   \n",
       "\n",
       "                                          clean_text  \n",
       "0  look good look good stick good like rounded sh...  \n",
       "1  great product sticker work like review say sti...  \n",
       "2  love love love awesome phone look stylish far ...  \n",
       "3  cute item arrive great time perfect condition ...  \n",
       "4  leopard home button sticker iphone awesome sta...  "
      ]
     },
     "execution_count": 9,
     "metadata": {},
     "output_type": "execute_result"
    }
   ],
   "source": [
    "data.head()"
   ]
  },
  {
   "cell_type": "code",
   "execution_count": 10,
   "id": "2334237e",
   "metadata": {},
   "outputs": [
    {
     "data": {
      "text/plain": [
       "1    87.439004\n",
       "0    12.560996\n",
       "Name: rating_class, dtype: float64"
      ]
     },
     "execution_count": 10,
     "metadata": {},
     "output_type": "execute_result"
    }
   ],
   "source": [
    "data['rating_class'].value_counts(normalize=True)*100"
   ]
  },
  {
   "cell_type": "markdown",
   "id": "07b580e2",
   "metadata": {},
   "source": [
    "Checking and dropping null values in clean_text Column"
   ]
  },
  {
   "cell_type": "code",
   "execution_count": 11,
   "id": "005a2479",
   "metadata": {},
   "outputs": [
    {
     "data": {
      "text/plain": [
       "9"
      ]
     },
     "execution_count": 11,
     "metadata": {},
     "output_type": "execute_result"
    }
   ],
   "source": [
    "data['clean_text'].isnull().sum()"
   ]
  },
  {
   "cell_type": "code",
   "execution_count": 12,
   "id": "12699bd9",
   "metadata": {},
   "outputs": [
    {
     "data": {
      "text/plain": [
       "(190996, 13)"
      ]
     },
     "execution_count": 12,
     "metadata": {},
     "output_type": "execute_result"
    }
   ],
   "source": [
    "data.shape"
   ]
  },
  {
   "cell_type": "code",
   "execution_count": 13,
   "id": "953b1b09",
   "metadata": {},
   "outputs": [
    {
     "data": {
      "text/plain": [
       "(190987, 13)"
      ]
     },
     "execution_count": 13,
     "metadata": {},
     "output_type": "execute_result"
    }
   ],
   "source": [
    "data.dropna(subset='clean_text',inplace=True)\n",
    "data.shape"
   ]
  },
  {
   "cell_type": "markdown",
   "id": "89f52ba5",
   "metadata": {},
   "source": [
    "### Train test split"
   ]
  },
  {
   "cell_type": "code",
   "execution_count": 14,
   "id": "3414201d",
   "metadata": {},
   "outputs": [],
   "source": [
    "# Splitting the Data Set into Train and Test Sets\n",
    "X = data['clean_text']\n",
    "y = data['rating_class']"
   ]
  },
  {
   "cell_type": "code",
   "execution_count": 15,
   "id": "a81bb124",
   "metadata": {},
   "outputs": [],
   "source": [
    "X_train, X_test, y_train, y_test = train_test_split(X, y, test_size=0.30, stratify=y, random_state=2)"
   ]
  },
  {
   "cell_type": "code",
   "execution_count": 16,
   "id": "2b47e4f0",
   "metadata": {},
   "outputs": [],
   "source": [
    "y_train=y_train.astype(np.uint8)\n",
    "y_test=y_test.astype(np.uint8)"
   ]
  },
  {
   "cell_type": "code",
   "execution_count": 17,
   "id": "924197c5",
   "metadata": {},
   "outputs": [
    {
     "data": {
      "text/plain": [
       "118818    1\n",
       "184559    1\n",
       "107041    1\n",
       "78547     1\n",
       "115754    1\n",
       "         ..\n",
       "86197     1\n",
       "77133     1\n",
       "75141     1\n",
       "56405     1\n",
       "79686     1\n",
       "Name: rating_class, Length: 133690, dtype: uint8"
      ]
     },
     "execution_count": 17,
     "metadata": {},
     "output_type": "execute_result"
    }
   ],
   "source": [
    "y_train"
   ]
  },
  {
   "cell_type": "code",
   "execution_count": 18,
   "id": "7f299f3f",
   "metadata": {},
   "outputs": [
    {
     "name": "stdout",
     "output_type": "stream",
     "text": [
      "Train data Shape\t\t:(133690,)\n",
      "Test data Shape \t\t:(57297,)\n"
     ]
    }
   ],
   "source": [
    "print ('Train data Shape\\t\\t:{}\\nTest data Shape \\t\\t:{}'.format(X_train.shape, X_test.shape))"
   ]
  },
  {
   "cell_type": "markdown",
   "id": "3b66252d",
   "metadata": {},
   "source": [
    "### Evaluation metrics"
   ]
  },
  {
   "cell_type": "markdown",
   "id": "b42330f6",
   "metadata": {},
   "source": [
    "As the data is imbalanced (87 : 13), accuracy alone would'nt be enough to define the performance of the model.F1 score (which is harmonic average of precision and recall) is taken as the evaluation metrics for my Sentiment Analysis."
   ]
  },
  {
   "cell_type": "markdown",
   "id": "be93929c",
   "metadata": {},
   "source": [
    "### NLP techniques to represent the clean text\n",
    "\n",
    "As Machine Learning models can only take numerical values as inputs, we have to give a numerical representation to the text of our data. It is important to give a compact representation to our text in a correct dimensional space where the text is correctly classified"
   ]
  },
  {
   "cell_type": "markdown",
   "id": "5ba5ee0f",
   "metadata": {},
   "source": [
    "Some techniques in NLP to convert text to vector like Sentence Embedding is used to give a compact and Semantic representation thereby helping the model to classify correctly"
   ]
  },
  {
   "cell_type": "markdown",
   "id": "b610f0cb",
   "metadata": {},
   "source": [
    "### Sentence Embedding"
   ]
  },
  {
   "cell_type": "code",
   "execution_count": 19,
   "id": "bc30b9d6",
   "metadata": {},
   "outputs": [],
   "source": [
    "#! pip install -user sentence-transform\n",
    "#conda install -c conda-forge  sentence-transformers"
   ]
  },
  {
   "cell_type": "code",
   "execution_count": 20,
   "id": "7a1ab5cc",
   "metadata": {},
   "outputs": [],
   "source": [
    "#conda install pytorch torchvision cudatoolkit=10.0 -c pytorch"
   ]
  },
  {
   "cell_type": "code",
   "execution_count": 21,
   "id": "3b9b0f03",
   "metadata": {},
   "outputs": [
    {
     "name": "stdout",
     "output_type": "stream",
     "text": [
      "Requirement already satisfied: sentence-transformers in c:\\users\\stsc\\anaconda3\\lib\\site-packages (2.2.2)\n",
      "Requirement already satisfied: transformers<5.0.0,>=4.6.0 in c:\\users\\stsc\\anaconda3\\lib\\site-packages (from sentence-transformers) (4.31.0)\n",
      "Requirement already satisfied: torch>=1.6.0 in c:\\users\\stsc\\anaconda3\\lib\\site-packages (from sentence-transformers) (2.0.1)\n",
      "Requirement already satisfied: scipy in c:\\users\\stsc\\anaconda3\\lib\\site-packages (from sentence-transformers) (1.7.3)\n",
      "Requirement already satisfied: nltk in c:\\users\\stsc\\anaconda3\\lib\\site-packages (from sentence-transformers) (3.7)\n",
      "Requirement already satisfied: numpy in c:\\users\\stsc\\anaconda3\\lib\\site-packages (from sentence-transformers) (1.22.4)\n",
      "Requirement already satisfied: scikit-learn in c:\\users\\stsc\\anaconda3\\lib\\site-packages (from sentence-transformers) (1.0.2)\n",
      "Requirement already satisfied: tqdm in c:\\users\\stsc\\anaconda3\\lib\\site-packages (from sentence-transformers) (4.64.0)\n",
      "Requirement already satisfied: sentencepiece in c:\\users\\stsc\\anaconda3\\lib\\site-packages (from sentence-transformers) (0.1.99)\n",
      "Requirement already satisfied: huggingface-hub>=0.4.0 in c:\\users\\stsc\\anaconda3\\lib\\site-packages (from sentence-transformers) (0.16.4)\n",
      "Requirement already satisfied: torchvision in c:\\users\\stsc\\anaconda3\\lib\\site-packages (from sentence-transformers) (0.15.2)\n",
      "Requirement already satisfied: packaging>=20.9 in c:\\users\\stsc\\anaconda3\\lib\\site-packages (from huggingface-hub>=0.4.0->sentence-transformers) (21.3)\n",
      "Requirement already satisfied: fsspec in c:\\users\\stsc\\anaconda3\\lib\\site-packages (from huggingface-hub>=0.4.0->sentence-transformers) (2022.2.0)\n",
      "Requirement already satisfied: pyyaml>=5.1 in c:\\users\\stsc\\anaconda3\\lib\\site-packages (from huggingface-hub>=0.4.0->sentence-transformers) (6.0)\n",
      "Requirement already satisfied: typing-extensions>=3.7.4.3 in c:\\users\\stsc\\anaconda3\\lib\\site-packages (from huggingface-hub>=0.4.0->sentence-transformers) (4.1.1)\n",
      "Requirement already satisfied: filelock in c:\\users\\stsc\\anaconda3\\lib\\site-packages (from huggingface-hub>=0.4.0->sentence-transformers) (3.6.0)\n",
      "Requirement already satisfied: requests in c:\\users\\stsc\\anaconda3\\lib\\site-packages (from huggingface-hub>=0.4.0->sentence-transformers) (2.27.1)\n",
      "Requirement already satisfied: pyparsing!=3.0.5,>=2.0.2 in c:\\users\\stsc\\anaconda3\\lib\\site-packages (from packaging>=20.9->huggingface-hub>=0.4.0->sentence-transformers) (3.0.4)\n",
      "Requirement already satisfied: networkx in c:\\users\\stsc\\anaconda3\\lib\\site-packages (from torch>=1.6.0->sentence-transformers) (2.7.1)\n",
      "Requirement already satisfied: jinja2 in c:\\users\\stsc\\anaconda3\\lib\\site-packages (from torch>=1.6.0->sentence-transformers) (2.11.3)\n",
      "Requirement already satisfied: sympy in c:\\users\\stsc\\anaconda3\\lib\\site-packages (from torch>=1.6.0->sentence-transformers) (1.10.1)\n",
      "Requirement already satisfied: colorama in c:\\users\\stsc\\anaconda3\\lib\\site-packages (from tqdm->sentence-transformers) (0.4.4)\n",
      "Requirement already satisfied: tokenizers!=0.11.3,<0.14,>=0.11.1 in c:\\users\\stsc\\anaconda3\\lib\\site-packages (from transformers<5.0.0,>=4.6.0->sentence-transformers) (0.13.3)\n",
      "Requirement already satisfied: safetensors>=0.3.1 in c:\\users\\stsc\\anaconda3\\lib\\site-packages (from transformers<5.0.0,>=4.6.0->sentence-transformers) (0.3.1)\n",
      "Requirement already satisfied: regex!=2019.12.17 in c:\\users\\stsc\\anaconda3\\lib\\site-packages (from transformers<5.0.0,>=4.6.0->sentence-transformers) (2022.3.15)\n",
      "Requirement already satisfied: MarkupSafe>=0.23 in c:\\users\\stsc\\anaconda3\\lib\\site-packages (from jinja2->torch>=1.6.0->sentence-transformers) (2.0.1)\n",
      "Requirement already satisfied: joblib in c:\\users\\stsc\\anaconda3\\lib\\site-packages (from nltk->sentence-transformers) (1.1.0)\n",
      "Requirement already satisfied: click in c:\\users\\stsc\\anaconda3\\lib\\site-packages (from nltk->sentence-transformers) (8.0.4)\n",
      "Requirement already satisfied: idna<4,>=2.5 in c:\\users\\stsc\\anaconda3\\lib\\site-packages (from requests->huggingface-hub>=0.4.0->sentence-transformers) (3.3)\n",
      "Requirement already satisfied: certifi>=2017.4.17 in c:\\users\\stsc\\anaconda3\\lib\\site-packages (from requests->huggingface-hub>=0.4.0->sentence-transformers) (2021.10.8)\n",
      "Requirement already satisfied: urllib3<1.27,>=1.21.1 in c:\\users\\stsc\\anaconda3\\lib\\site-packages (from requests->huggingface-hub>=0.4.0->sentence-transformers) (1.26.9)\n",
      "Requirement already satisfied: charset-normalizer~=2.0.0 in c:\\users\\stsc\\anaconda3\\lib\\site-packages (from requests->huggingface-hub>=0.4.0->sentence-transformers) (2.0.4)\n",
      "Requirement already satisfied: threadpoolctl>=2.0.0 in c:\\users\\stsc\\anaconda3\\lib\\site-packages (from scikit-learn->sentence-transformers) (2.2.0)\n",
      "Requirement already satisfied: mpmath>=0.19 in c:\\users\\stsc\\anaconda3\\lib\\site-packages (from sympy->torch>=1.6.0->sentence-transformers) (1.2.1)\n",
      "Requirement already satisfied: pillow!=8.3.*,>=5.3.0 in c:\\users\\stsc\\anaconda3\\lib\\site-packages (from torchvision->sentence-transformers) (9.0.1)\n",
      "Note: you may need to restart the kernel to use updated packages.\n"
     ]
    }
   ],
   "source": [
    "pip install sentence-transformers"
   ]
  },
  {
   "cell_type": "code",
   "execution_count": 22,
   "id": "031f0465",
   "metadata": {},
   "outputs": [],
   "source": [
    "from sentence_transformers import SentenceTransformer\n",
    "model = SentenceTransformer('sentence-transformers/all-MiniLM-L6-v2')"
   ]
  },
  {
   "cell_type": "code",
   "execution_count": 23,
   "id": "cad9a936",
   "metadata": {},
   "outputs": [],
   "source": [
    "X_train=pd.DataFrame(X_train)\n",
    "X_test=pd.DataFrame(X_test)\n",
    "y_train=pd.DataFrame(y_train)\n",
    "y_test=pd.DataFrame(y_test)"
   ]
  },
  {
   "cell_type": "code",
   "execution_count": 24,
   "id": "70da05c7",
   "metadata": {},
   "outputs": [],
   "source": [
    "X_train['embeddings'] = X_train['clean_text'].apply(lambda x: model.encode(x))\n",
    "X_test['embeddings'] = X_test['clean_text'].apply(lambda x: model.encode(x))"
   ]
  },
  {
   "cell_type": "code",
   "execution_count": 25,
   "id": "df37097b",
   "metadata": {},
   "outputs": [],
   "source": [
    "# Use the pandas `str.split` method to separate the array values into separate columns\n",
    "X_train = pd.concat([X_train, pd.DataFrame(X_train['embeddings'].to_list(), index=X_train.index)], axis=1)\n",
    "\n",
    "# Drop the original 'array_column'\n",
    "X_train = X_train.drop(['embeddings'], axis=1)"
   ]
  },
  {
   "cell_type": "code",
   "execution_count": 26,
   "id": "ee668e15",
   "metadata": {},
   "outputs": [],
   "source": [
    "# Use the pandas `str.split` method to separate the array values into separate columns\n",
    "X_test = pd.concat([X_test, pd.DataFrame(X_test['embeddings'].to_list(), index=X_test.index)], axis=1)\n",
    "\n",
    "# Drop the original 'array_column'\n",
    "X_test = X_test.drop(['embeddings'], axis=1)"
   ]
  },
  {
   "cell_type": "code",
   "execution_count": 27,
   "id": "f4dda6ea",
   "metadata": {},
   "outputs": [],
   "source": [
    "# Drop 'meaningful text' column\n",
    "\n",
    "# X_train= X_train.drop(['clean_text'], axis=1)\n",
    "X_test = X_test.drop(['clean_text'], axis=1)"
   ]
  },
  {
   "cell_type": "code",
   "execution_count": 28,
   "id": "56d570fb",
   "metadata": {},
   "outputs": [
    {
     "data": {
      "text/html": [
       "<div>\n",
       "<style scoped>\n",
       "    .dataframe tbody tr th:only-of-type {\n",
       "        vertical-align: middle;\n",
       "    }\n",
       "\n",
       "    .dataframe tbody tr th {\n",
       "        vertical-align: top;\n",
       "    }\n",
       "\n",
       "    .dataframe thead th {\n",
       "        text-align: right;\n",
       "    }\n",
       "</style>\n",
       "<table border=\"1\" class=\"dataframe\">\n",
       "  <thead>\n",
       "    <tr style=\"text-align: right;\">\n",
       "      <th></th>\n",
       "      <th>0</th>\n",
       "      <th>1</th>\n",
       "      <th>2</th>\n",
       "      <th>3</th>\n",
       "      <th>4</th>\n",
       "      <th>5</th>\n",
       "      <th>6</th>\n",
       "      <th>7</th>\n",
       "      <th>8</th>\n",
       "      <th>9</th>\n",
       "      <th>...</th>\n",
       "      <th>374</th>\n",
       "      <th>375</th>\n",
       "      <th>376</th>\n",
       "      <th>377</th>\n",
       "      <th>378</th>\n",
       "      <th>379</th>\n",
       "      <th>380</th>\n",
       "      <th>381</th>\n",
       "      <th>382</th>\n",
       "      <th>383</th>\n",
       "    </tr>\n",
       "  </thead>\n",
       "  <tbody>\n",
       "    <tr>\n",
       "      <th>128426</th>\n",
       "      <td>-0.156219</td>\n",
       "      <td>0.132607</td>\n",
       "      <td>0.110814</td>\n",
       "      <td>-0.006796</td>\n",
       "      <td>0.055928</td>\n",
       "      <td>0.060973</td>\n",
       "      <td>0.089696</td>\n",
       "      <td>0.033085</td>\n",
       "      <td>-0.013454</td>\n",
       "      <td>0.008128</td>\n",
       "      <td>...</td>\n",
       "      <td>-0.034049</td>\n",
       "      <td>-0.062355</td>\n",
       "      <td>0.015428</td>\n",
       "      <td>0.009733</td>\n",
       "      <td>0.082623</td>\n",
       "      <td>0.072030</td>\n",
       "      <td>-0.034101</td>\n",
       "      <td>-0.056785</td>\n",
       "      <td>0.088663</td>\n",
       "      <td>0.062091</td>\n",
       "    </tr>\n",
       "    <tr>\n",
       "      <th>113741</th>\n",
       "      <td>-0.144971</td>\n",
       "      <td>0.085611</td>\n",
       "      <td>0.013527</td>\n",
       "      <td>-0.044792</td>\n",
       "      <td>0.028799</td>\n",
       "      <td>-0.033410</td>\n",
       "      <td>0.163164</td>\n",
       "      <td>-0.007703</td>\n",
       "      <td>0.054795</td>\n",
       "      <td>-0.023424</td>\n",
       "      <td>...</td>\n",
       "      <td>-0.047448</td>\n",
       "      <td>-0.035451</td>\n",
       "      <td>-0.013367</td>\n",
       "      <td>0.029177</td>\n",
       "      <td>0.070079</td>\n",
       "      <td>0.073259</td>\n",
       "      <td>0.072106</td>\n",
       "      <td>-0.070108</td>\n",
       "      <td>0.052988</td>\n",
       "      <td>0.083292</td>\n",
       "    </tr>\n",
       "    <tr>\n",
       "      <th>187122</th>\n",
       "      <td>-0.144203</td>\n",
       "      <td>0.071986</td>\n",
       "      <td>0.090844</td>\n",
       "      <td>-0.028498</td>\n",
       "      <td>-0.001849</td>\n",
       "      <td>0.016347</td>\n",
       "      <td>0.083961</td>\n",
       "      <td>0.076645</td>\n",
       "      <td>-0.023970</td>\n",
       "      <td>0.017016</td>\n",
       "      <td>...</td>\n",
       "      <td>-0.008716</td>\n",
       "      <td>-0.006318</td>\n",
       "      <td>0.019318</td>\n",
       "      <td>0.003037</td>\n",
       "      <td>0.060866</td>\n",
       "      <td>0.027765</td>\n",
       "      <td>0.072653</td>\n",
       "      <td>-0.115694</td>\n",
       "      <td>0.022138</td>\n",
       "      <td>0.099877</td>\n",
       "    </tr>\n",
       "    <tr>\n",
       "      <th>26696</th>\n",
       "      <td>0.010459</td>\n",
       "      <td>0.014937</td>\n",
       "      <td>0.031641</td>\n",
       "      <td>0.029845</td>\n",
       "      <td>0.046285</td>\n",
       "      <td>-0.040171</td>\n",
       "      <td>-0.036844</td>\n",
       "      <td>-0.034344</td>\n",
       "      <td>0.002391</td>\n",
       "      <td>-0.022451</td>\n",
       "      <td>...</td>\n",
       "      <td>-0.031968</td>\n",
       "      <td>-0.097583</td>\n",
       "      <td>0.021487</td>\n",
       "      <td>0.072431</td>\n",
       "      <td>-0.064887</td>\n",
       "      <td>-0.064604</td>\n",
       "      <td>0.099824</td>\n",
       "      <td>0.046481</td>\n",
       "      <td>0.046782</td>\n",
       "      <td>0.076168</td>\n",
       "    </tr>\n",
       "    <tr>\n",
       "      <th>21050</th>\n",
       "      <td>-0.039230</td>\n",
       "      <td>0.118317</td>\n",
       "      <td>0.056768</td>\n",
       "      <td>-0.034366</td>\n",
       "      <td>-0.032894</td>\n",
       "      <td>-0.074490</td>\n",
       "      <td>0.028159</td>\n",
       "      <td>0.023163</td>\n",
       "      <td>0.068850</td>\n",
       "      <td>-0.045877</td>\n",
       "      <td>...</td>\n",
       "      <td>-0.019876</td>\n",
       "      <td>-0.080959</td>\n",
       "      <td>-0.010038</td>\n",
       "      <td>0.002993</td>\n",
       "      <td>0.050169</td>\n",
       "      <td>-0.010004</td>\n",
       "      <td>-0.038015</td>\n",
       "      <td>-0.002873</td>\n",
       "      <td>0.067013</td>\n",
       "      <td>0.081945</td>\n",
       "    </tr>\n",
       "    <tr>\n",
       "      <th>...</th>\n",
       "      <td>...</td>\n",
       "      <td>...</td>\n",
       "      <td>...</td>\n",
       "      <td>...</td>\n",
       "      <td>...</td>\n",
       "      <td>...</td>\n",
       "      <td>...</td>\n",
       "      <td>...</td>\n",
       "      <td>...</td>\n",
       "      <td>...</td>\n",
       "      <td>...</td>\n",
       "      <td>...</td>\n",
       "      <td>...</td>\n",
       "      <td>...</td>\n",
       "      <td>...</td>\n",
       "      <td>...</td>\n",
       "      <td>...</td>\n",
       "      <td>...</td>\n",
       "      <td>...</td>\n",
       "      <td>...</td>\n",
       "      <td>...</td>\n",
       "    </tr>\n",
       "    <tr>\n",
       "      <th>118183</th>\n",
       "      <td>-0.067558</td>\n",
       "      <td>0.035119</td>\n",
       "      <td>0.045801</td>\n",
       "      <td>-0.034960</td>\n",
       "      <td>-0.043834</td>\n",
       "      <td>0.050184</td>\n",
       "      <td>0.094537</td>\n",
       "      <td>0.046963</td>\n",
       "      <td>-0.060854</td>\n",
       "      <td>-0.003236</td>\n",
       "      <td>...</td>\n",
       "      <td>0.072020</td>\n",
       "      <td>0.058910</td>\n",
       "      <td>0.026479</td>\n",
       "      <td>0.027365</td>\n",
       "      <td>0.014462</td>\n",
       "      <td>-0.004201</td>\n",
       "      <td>-0.030829</td>\n",
       "      <td>-0.052480</td>\n",
       "      <td>0.009092</td>\n",
       "      <td>0.105029</td>\n",
       "    </tr>\n",
       "    <tr>\n",
       "      <th>138646</th>\n",
       "      <td>-0.043065</td>\n",
       "      <td>-0.050395</td>\n",
       "      <td>0.030053</td>\n",
       "      <td>-0.074690</td>\n",
       "      <td>-0.116687</td>\n",
       "      <td>-0.018272</td>\n",
       "      <td>0.048663</td>\n",
       "      <td>-0.082951</td>\n",
       "      <td>-0.098882</td>\n",
       "      <td>-0.026309</td>\n",
       "      <td>...</td>\n",
       "      <td>0.057330</td>\n",
       "      <td>0.031348</td>\n",
       "      <td>0.002581</td>\n",
       "      <td>0.037472</td>\n",
       "      <td>-0.040107</td>\n",
       "      <td>0.012154</td>\n",
       "      <td>-0.001395</td>\n",
       "      <td>0.020935</td>\n",
       "      <td>0.077257</td>\n",
       "      <td>0.030098</td>\n",
       "    </tr>\n",
       "    <tr>\n",
       "      <th>26637</th>\n",
       "      <td>-0.125259</td>\n",
       "      <td>0.117507</td>\n",
       "      <td>0.144841</td>\n",
       "      <td>-0.004498</td>\n",
       "      <td>0.061985</td>\n",
       "      <td>-0.002368</td>\n",
       "      <td>0.062293</td>\n",
       "      <td>0.074033</td>\n",
       "      <td>-0.036438</td>\n",
       "      <td>-0.043860</td>\n",
       "      <td>...</td>\n",
       "      <td>0.004785</td>\n",
       "      <td>-0.007832</td>\n",
       "      <td>0.088023</td>\n",
       "      <td>0.006242</td>\n",
       "      <td>0.091545</td>\n",
       "      <td>0.003266</td>\n",
       "      <td>0.010872</td>\n",
       "      <td>-0.078393</td>\n",
       "      <td>0.031170</td>\n",
       "      <td>0.105769</td>\n",
       "    </tr>\n",
       "    <tr>\n",
       "      <th>7294</th>\n",
       "      <td>-0.127881</td>\n",
       "      <td>0.103354</td>\n",
       "      <td>0.057913</td>\n",
       "      <td>-0.070364</td>\n",
       "      <td>0.017815</td>\n",
       "      <td>-0.041611</td>\n",
       "      <td>0.077141</td>\n",
       "      <td>0.075036</td>\n",
       "      <td>-0.053498</td>\n",
       "      <td>0.001037</td>\n",
       "      <td>...</td>\n",
       "      <td>0.064435</td>\n",
       "      <td>0.020606</td>\n",
       "      <td>0.077374</td>\n",
       "      <td>0.009993</td>\n",
       "      <td>0.104747</td>\n",
       "      <td>0.005858</td>\n",
       "      <td>0.027618</td>\n",
       "      <td>0.006956</td>\n",
       "      <td>0.031436</td>\n",
       "      <td>0.084427</td>\n",
       "    </tr>\n",
       "    <tr>\n",
       "      <th>128157</th>\n",
       "      <td>-0.110834</td>\n",
       "      <td>0.060621</td>\n",
       "      <td>0.105516</td>\n",
       "      <td>0.010316</td>\n",
       "      <td>-0.072983</td>\n",
       "      <td>-0.039937</td>\n",
       "      <td>0.066693</td>\n",
       "      <td>0.122260</td>\n",
       "      <td>0.015151</td>\n",
       "      <td>0.073548</td>\n",
       "      <td>...</td>\n",
       "      <td>-0.016848</td>\n",
       "      <td>0.007848</td>\n",
       "      <td>0.004540</td>\n",
       "      <td>0.033431</td>\n",
       "      <td>0.035946</td>\n",
       "      <td>0.020052</td>\n",
       "      <td>0.001540</td>\n",
       "      <td>0.035813</td>\n",
       "      <td>0.023411</td>\n",
       "      <td>0.078644</td>\n",
       "    </tr>\n",
       "  </tbody>\n",
       "</table>\n",
       "<p>57297 rows × 384 columns</p>\n",
       "</div>"
      ],
      "text/plain": [
       "             0         1         2         3         4         5         6    \\\n",
       "128426 -0.156219  0.132607  0.110814 -0.006796  0.055928  0.060973  0.089696   \n",
       "113741 -0.144971  0.085611  0.013527 -0.044792  0.028799 -0.033410  0.163164   \n",
       "187122 -0.144203  0.071986  0.090844 -0.028498 -0.001849  0.016347  0.083961   \n",
       "26696   0.010459  0.014937  0.031641  0.029845  0.046285 -0.040171 -0.036844   \n",
       "21050  -0.039230  0.118317  0.056768 -0.034366 -0.032894 -0.074490  0.028159   \n",
       "...          ...       ...       ...       ...       ...       ...       ...   \n",
       "118183 -0.067558  0.035119  0.045801 -0.034960 -0.043834  0.050184  0.094537   \n",
       "138646 -0.043065 -0.050395  0.030053 -0.074690 -0.116687 -0.018272  0.048663   \n",
       "26637  -0.125259  0.117507  0.144841 -0.004498  0.061985 -0.002368  0.062293   \n",
       "7294   -0.127881  0.103354  0.057913 -0.070364  0.017815 -0.041611  0.077141   \n",
       "128157 -0.110834  0.060621  0.105516  0.010316 -0.072983 -0.039937  0.066693   \n",
       "\n",
       "             7         8         9    ...       374       375       376  \\\n",
       "128426  0.033085 -0.013454  0.008128  ... -0.034049 -0.062355  0.015428   \n",
       "113741 -0.007703  0.054795 -0.023424  ... -0.047448 -0.035451 -0.013367   \n",
       "187122  0.076645 -0.023970  0.017016  ... -0.008716 -0.006318  0.019318   \n",
       "26696  -0.034344  0.002391 -0.022451  ... -0.031968 -0.097583  0.021487   \n",
       "21050   0.023163  0.068850 -0.045877  ... -0.019876 -0.080959 -0.010038   \n",
       "...          ...       ...       ...  ...       ...       ...       ...   \n",
       "118183  0.046963 -0.060854 -0.003236  ...  0.072020  0.058910  0.026479   \n",
       "138646 -0.082951 -0.098882 -0.026309  ...  0.057330  0.031348  0.002581   \n",
       "26637   0.074033 -0.036438 -0.043860  ...  0.004785 -0.007832  0.088023   \n",
       "7294    0.075036 -0.053498  0.001037  ...  0.064435  0.020606  0.077374   \n",
       "128157  0.122260  0.015151  0.073548  ... -0.016848  0.007848  0.004540   \n",
       "\n",
       "             377       378       379       380       381       382       383  \n",
       "128426  0.009733  0.082623  0.072030 -0.034101 -0.056785  0.088663  0.062091  \n",
       "113741  0.029177  0.070079  0.073259  0.072106 -0.070108  0.052988  0.083292  \n",
       "187122  0.003037  0.060866  0.027765  0.072653 -0.115694  0.022138  0.099877  \n",
       "26696   0.072431 -0.064887 -0.064604  0.099824  0.046481  0.046782  0.076168  \n",
       "21050   0.002993  0.050169 -0.010004 -0.038015 -0.002873  0.067013  0.081945  \n",
       "...          ...       ...       ...       ...       ...       ...       ...  \n",
       "118183  0.027365  0.014462 -0.004201 -0.030829 -0.052480  0.009092  0.105029  \n",
       "138646  0.037472 -0.040107  0.012154 -0.001395  0.020935  0.077257  0.030098  \n",
       "26637   0.006242  0.091545  0.003266  0.010872 -0.078393  0.031170  0.105769  \n",
       "7294    0.009993  0.104747  0.005858  0.027618  0.006956  0.031436  0.084427  \n",
       "128157  0.033431  0.035946  0.020052  0.001540  0.035813  0.023411  0.078644  \n",
       "\n",
       "[57297 rows x 384 columns]"
      ]
     },
     "execution_count": 28,
     "metadata": {},
     "output_type": "execute_result"
    }
   ],
   "source": [
    "X_test"
   ]
  },
  {
   "cell_type": "code",
   "execution_count": 29,
   "id": "2a78ca80",
   "metadata": {},
   "outputs": [],
   "source": [
    "X_test.to_csv('testing_data_embeddings.csv')"
   ]
  },
  {
   "cell_type": "code",
   "execution_count": 30,
   "id": "010426ca",
   "metadata": {},
   "outputs": [
    {
     "ename": "FileNotFoundError",
     "evalue": "[Errno 2] No such file or directory: 'training_data_embeddings.csv'",
     "output_type": "error",
     "traceback": [
      "\u001b[1;31m---------------------------------------------------------------------------\u001b[0m",
      "\u001b[1;31mFileNotFoundError\u001b[0m                         Traceback (most recent call last)",
      "Input \u001b[1;32mIn [30]\u001b[0m, in \u001b[0;36m<cell line: 1>\u001b[1;34m()\u001b[0m\n\u001b[1;32m----> 1\u001b[0m X_train\u001b[38;5;241m=\u001b[39m\u001b[43mpd\u001b[49m\u001b[38;5;241;43m.\u001b[39;49m\u001b[43mread_csv\u001b[49m\u001b[43m(\u001b[49m\u001b[38;5;124;43m\"\u001b[39;49m\u001b[38;5;124;43mtraining_data_embeddings.csv\u001b[39;49m\u001b[38;5;124;43m\"\u001b[39;49m\u001b[43m)\u001b[49m\n\u001b[0;32m      2\u001b[0m X_train\n",
      "File \u001b[1;32m~\\anaconda3\\lib\\site-packages\\pandas\\util\\_decorators.py:311\u001b[0m, in \u001b[0;36mdeprecate_nonkeyword_arguments.<locals>.decorate.<locals>.wrapper\u001b[1;34m(*args, **kwargs)\u001b[0m\n\u001b[0;32m    305\u001b[0m \u001b[38;5;28;01mif\u001b[39;00m \u001b[38;5;28mlen\u001b[39m(args) \u001b[38;5;241m>\u001b[39m num_allow_args:\n\u001b[0;32m    306\u001b[0m     warnings\u001b[38;5;241m.\u001b[39mwarn(\n\u001b[0;32m    307\u001b[0m         msg\u001b[38;5;241m.\u001b[39mformat(arguments\u001b[38;5;241m=\u001b[39marguments),\n\u001b[0;32m    308\u001b[0m         \u001b[38;5;167;01mFutureWarning\u001b[39;00m,\n\u001b[0;32m    309\u001b[0m         stacklevel\u001b[38;5;241m=\u001b[39mstacklevel,\n\u001b[0;32m    310\u001b[0m     )\n\u001b[1;32m--> 311\u001b[0m \u001b[38;5;28;01mreturn\u001b[39;00m func(\u001b[38;5;241m*\u001b[39margs, \u001b[38;5;241m*\u001b[39m\u001b[38;5;241m*\u001b[39mkwargs)\n",
      "File \u001b[1;32m~\\anaconda3\\lib\\site-packages\\pandas\\io\\parsers\\readers.py:680\u001b[0m, in \u001b[0;36mread_csv\u001b[1;34m(filepath_or_buffer, sep, delimiter, header, names, index_col, usecols, squeeze, prefix, mangle_dupe_cols, dtype, engine, converters, true_values, false_values, skipinitialspace, skiprows, skipfooter, nrows, na_values, keep_default_na, na_filter, verbose, skip_blank_lines, parse_dates, infer_datetime_format, keep_date_col, date_parser, dayfirst, cache_dates, iterator, chunksize, compression, thousands, decimal, lineterminator, quotechar, quoting, doublequote, escapechar, comment, encoding, encoding_errors, dialect, error_bad_lines, warn_bad_lines, on_bad_lines, delim_whitespace, low_memory, memory_map, float_precision, storage_options)\u001b[0m\n\u001b[0;32m    665\u001b[0m kwds_defaults \u001b[38;5;241m=\u001b[39m _refine_defaults_read(\n\u001b[0;32m    666\u001b[0m     dialect,\n\u001b[0;32m    667\u001b[0m     delimiter,\n\u001b[1;32m   (...)\u001b[0m\n\u001b[0;32m    676\u001b[0m     defaults\u001b[38;5;241m=\u001b[39m{\u001b[38;5;124m\"\u001b[39m\u001b[38;5;124mdelimiter\u001b[39m\u001b[38;5;124m\"\u001b[39m: \u001b[38;5;124m\"\u001b[39m\u001b[38;5;124m,\u001b[39m\u001b[38;5;124m\"\u001b[39m},\n\u001b[0;32m    677\u001b[0m )\n\u001b[0;32m    678\u001b[0m kwds\u001b[38;5;241m.\u001b[39mupdate(kwds_defaults)\n\u001b[1;32m--> 680\u001b[0m \u001b[38;5;28;01mreturn\u001b[39;00m \u001b[43m_read\u001b[49m\u001b[43m(\u001b[49m\u001b[43mfilepath_or_buffer\u001b[49m\u001b[43m,\u001b[49m\u001b[43m \u001b[49m\u001b[43mkwds\u001b[49m\u001b[43m)\u001b[49m\n",
      "File \u001b[1;32m~\\anaconda3\\lib\\site-packages\\pandas\\io\\parsers\\readers.py:575\u001b[0m, in \u001b[0;36m_read\u001b[1;34m(filepath_or_buffer, kwds)\u001b[0m\n\u001b[0;32m    572\u001b[0m _validate_names(kwds\u001b[38;5;241m.\u001b[39mget(\u001b[38;5;124m\"\u001b[39m\u001b[38;5;124mnames\u001b[39m\u001b[38;5;124m\"\u001b[39m, \u001b[38;5;28;01mNone\u001b[39;00m))\n\u001b[0;32m    574\u001b[0m \u001b[38;5;66;03m# Create the parser.\u001b[39;00m\n\u001b[1;32m--> 575\u001b[0m parser \u001b[38;5;241m=\u001b[39m TextFileReader(filepath_or_buffer, \u001b[38;5;241m*\u001b[39m\u001b[38;5;241m*\u001b[39mkwds)\n\u001b[0;32m    577\u001b[0m \u001b[38;5;28;01mif\u001b[39;00m chunksize \u001b[38;5;129;01mor\u001b[39;00m iterator:\n\u001b[0;32m    578\u001b[0m     \u001b[38;5;28;01mreturn\u001b[39;00m parser\n",
      "File \u001b[1;32m~\\anaconda3\\lib\\site-packages\\pandas\\io\\parsers\\readers.py:933\u001b[0m, in \u001b[0;36mTextFileReader.__init__\u001b[1;34m(self, f, engine, **kwds)\u001b[0m\n\u001b[0;32m    930\u001b[0m     \u001b[38;5;28mself\u001b[39m\u001b[38;5;241m.\u001b[39moptions[\u001b[38;5;124m\"\u001b[39m\u001b[38;5;124mhas_index_names\u001b[39m\u001b[38;5;124m\"\u001b[39m] \u001b[38;5;241m=\u001b[39m kwds[\u001b[38;5;124m\"\u001b[39m\u001b[38;5;124mhas_index_names\u001b[39m\u001b[38;5;124m\"\u001b[39m]\n\u001b[0;32m    932\u001b[0m \u001b[38;5;28mself\u001b[39m\u001b[38;5;241m.\u001b[39mhandles: IOHandles \u001b[38;5;241m|\u001b[39m \u001b[38;5;28;01mNone\u001b[39;00m \u001b[38;5;241m=\u001b[39m \u001b[38;5;28;01mNone\u001b[39;00m\n\u001b[1;32m--> 933\u001b[0m \u001b[38;5;28mself\u001b[39m\u001b[38;5;241m.\u001b[39m_engine \u001b[38;5;241m=\u001b[39m \u001b[38;5;28;43mself\u001b[39;49m\u001b[38;5;241;43m.\u001b[39;49m\u001b[43m_make_engine\u001b[49m\u001b[43m(\u001b[49m\u001b[43mf\u001b[49m\u001b[43m,\u001b[49m\u001b[43m \u001b[49m\u001b[38;5;28;43mself\u001b[39;49m\u001b[38;5;241;43m.\u001b[39;49m\u001b[43mengine\u001b[49m\u001b[43m)\u001b[49m\n",
      "File \u001b[1;32m~\\anaconda3\\lib\\site-packages\\pandas\\io\\parsers\\readers.py:1217\u001b[0m, in \u001b[0;36mTextFileReader._make_engine\u001b[1;34m(self, f, engine)\u001b[0m\n\u001b[0;32m   1213\u001b[0m     mode \u001b[38;5;241m=\u001b[39m \u001b[38;5;124m\"\u001b[39m\u001b[38;5;124mrb\u001b[39m\u001b[38;5;124m\"\u001b[39m\n\u001b[0;32m   1214\u001b[0m \u001b[38;5;66;03m# error: No overload variant of \"get_handle\" matches argument types\u001b[39;00m\n\u001b[0;32m   1215\u001b[0m \u001b[38;5;66;03m# \"Union[str, PathLike[str], ReadCsvBuffer[bytes], ReadCsvBuffer[str]]\"\u001b[39;00m\n\u001b[0;32m   1216\u001b[0m \u001b[38;5;66;03m# , \"str\", \"bool\", \"Any\", \"Any\", \"Any\", \"Any\", \"Any\"\u001b[39;00m\n\u001b[1;32m-> 1217\u001b[0m \u001b[38;5;28mself\u001b[39m\u001b[38;5;241m.\u001b[39mhandles \u001b[38;5;241m=\u001b[39m \u001b[43mget_handle\u001b[49m\u001b[43m(\u001b[49m\u001b[43m  \u001b[49m\u001b[38;5;66;43;03m# type: ignore[call-overload]\u001b[39;49;00m\n\u001b[0;32m   1218\u001b[0m \u001b[43m    \u001b[49m\u001b[43mf\u001b[49m\u001b[43m,\u001b[49m\n\u001b[0;32m   1219\u001b[0m \u001b[43m    \u001b[49m\u001b[43mmode\u001b[49m\u001b[43m,\u001b[49m\n\u001b[0;32m   1220\u001b[0m \u001b[43m    \u001b[49m\u001b[43mencoding\u001b[49m\u001b[38;5;241;43m=\u001b[39;49m\u001b[38;5;28;43mself\u001b[39;49m\u001b[38;5;241;43m.\u001b[39;49m\u001b[43moptions\u001b[49m\u001b[38;5;241;43m.\u001b[39;49m\u001b[43mget\u001b[49m\u001b[43m(\u001b[49m\u001b[38;5;124;43m\"\u001b[39;49m\u001b[38;5;124;43mencoding\u001b[39;49m\u001b[38;5;124;43m\"\u001b[39;49m\u001b[43m,\u001b[49m\u001b[43m \u001b[49m\u001b[38;5;28;43;01mNone\u001b[39;49;00m\u001b[43m)\u001b[49m\u001b[43m,\u001b[49m\n\u001b[0;32m   1221\u001b[0m \u001b[43m    \u001b[49m\u001b[43mcompression\u001b[49m\u001b[38;5;241;43m=\u001b[39;49m\u001b[38;5;28;43mself\u001b[39;49m\u001b[38;5;241;43m.\u001b[39;49m\u001b[43moptions\u001b[49m\u001b[38;5;241;43m.\u001b[39;49m\u001b[43mget\u001b[49m\u001b[43m(\u001b[49m\u001b[38;5;124;43m\"\u001b[39;49m\u001b[38;5;124;43mcompression\u001b[39;49m\u001b[38;5;124;43m\"\u001b[39;49m\u001b[43m,\u001b[49m\u001b[43m \u001b[49m\u001b[38;5;28;43;01mNone\u001b[39;49;00m\u001b[43m)\u001b[49m\u001b[43m,\u001b[49m\n\u001b[0;32m   1222\u001b[0m \u001b[43m    \u001b[49m\u001b[43mmemory_map\u001b[49m\u001b[38;5;241;43m=\u001b[39;49m\u001b[38;5;28;43mself\u001b[39;49m\u001b[38;5;241;43m.\u001b[39;49m\u001b[43moptions\u001b[49m\u001b[38;5;241;43m.\u001b[39;49m\u001b[43mget\u001b[49m\u001b[43m(\u001b[49m\u001b[38;5;124;43m\"\u001b[39;49m\u001b[38;5;124;43mmemory_map\u001b[39;49m\u001b[38;5;124;43m\"\u001b[39;49m\u001b[43m,\u001b[49m\u001b[43m \u001b[49m\u001b[38;5;28;43;01mFalse\u001b[39;49;00m\u001b[43m)\u001b[49m\u001b[43m,\u001b[49m\n\u001b[0;32m   1223\u001b[0m \u001b[43m    \u001b[49m\u001b[43mis_text\u001b[49m\u001b[38;5;241;43m=\u001b[39;49m\u001b[43mis_text\u001b[49m\u001b[43m,\u001b[49m\n\u001b[0;32m   1224\u001b[0m \u001b[43m    \u001b[49m\u001b[43merrors\u001b[49m\u001b[38;5;241;43m=\u001b[39;49m\u001b[38;5;28;43mself\u001b[39;49m\u001b[38;5;241;43m.\u001b[39;49m\u001b[43moptions\u001b[49m\u001b[38;5;241;43m.\u001b[39;49m\u001b[43mget\u001b[49m\u001b[43m(\u001b[49m\u001b[38;5;124;43m\"\u001b[39;49m\u001b[38;5;124;43mencoding_errors\u001b[39;49m\u001b[38;5;124;43m\"\u001b[39;49m\u001b[43m,\u001b[49m\u001b[43m \u001b[49m\u001b[38;5;124;43m\"\u001b[39;49m\u001b[38;5;124;43mstrict\u001b[39;49m\u001b[38;5;124;43m\"\u001b[39;49m\u001b[43m)\u001b[49m\u001b[43m,\u001b[49m\n\u001b[0;32m   1225\u001b[0m \u001b[43m    \u001b[49m\u001b[43mstorage_options\u001b[49m\u001b[38;5;241;43m=\u001b[39;49m\u001b[38;5;28;43mself\u001b[39;49m\u001b[38;5;241;43m.\u001b[39;49m\u001b[43moptions\u001b[49m\u001b[38;5;241;43m.\u001b[39;49m\u001b[43mget\u001b[49m\u001b[43m(\u001b[49m\u001b[38;5;124;43m\"\u001b[39;49m\u001b[38;5;124;43mstorage_options\u001b[39;49m\u001b[38;5;124;43m\"\u001b[39;49m\u001b[43m,\u001b[49m\u001b[43m \u001b[49m\u001b[38;5;28;43;01mNone\u001b[39;49;00m\u001b[43m)\u001b[49m\u001b[43m,\u001b[49m\n\u001b[0;32m   1226\u001b[0m \u001b[43m\u001b[49m\u001b[43m)\u001b[49m\n\u001b[0;32m   1227\u001b[0m \u001b[38;5;28;01massert\u001b[39;00m \u001b[38;5;28mself\u001b[39m\u001b[38;5;241m.\u001b[39mhandles \u001b[38;5;129;01mis\u001b[39;00m \u001b[38;5;129;01mnot\u001b[39;00m \u001b[38;5;28;01mNone\u001b[39;00m\n\u001b[0;32m   1228\u001b[0m f \u001b[38;5;241m=\u001b[39m \u001b[38;5;28mself\u001b[39m\u001b[38;5;241m.\u001b[39mhandles\u001b[38;5;241m.\u001b[39mhandle\n",
      "File \u001b[1;32m~\\anaconda3\\lib\\site-packages\\pandas\\io\\common.py:789\u001b[0m, in \u001b[0;36mget_handle\u001b[1;34m(path_or_buf, mode, encoding, compression, memory_map, is_text, errors, storage_options)\u001b[0m\n\u001b[0;32m    784\u001b[0m \u001b[38;5;28;01melif\u001b[39;00m \u001b[38;5;28misinstance\u001b[39m(handle, \u001b[38;5;28mstr\u001b[39m):\n\u001b[0;32m    785\u001b[0m     \u001b[38;5;66;03m# Check whether the filename is to be opened in binary mode.\u001b[39;00m\n\u001b[0;32m    786\u001b[0m     \u001b[38;5;66;03m# Binary mode does not support 'encoding' and 'newline'.\u001b[39;00m\n\u001b[0;32m    787\u001b[0m     \u001b[38;5;28;01mif\u001b[39;00m ioargs\u001b[38;5;241m.\u001b[39mencoding \u001b[38;5;129;01mand\u001b[39;00m \u001b[38;5;124m\"\u001b[39m\u001b[38;5;124mb\u001b[39m\u001b[38;5;124m\"\u001b[39m \u001b[38;5;129;01mnot\u001b[39;00m \u001b[38;5;129;01min\u001b[39;00m ioargs\u001b[38;5;241m.\u001b[39mmode:\n\u001b[0;32m    788\u001b[0m         \u001b[38;5;66;03m# Encoding\u001b[39;00m\n\u001b[1;32m--> 789\u001b[0m         handle \u001b[38;5;241m=\u001b[39m \u001b[38;5;28;43mopen\u001b[39;49m\u001b[43m(\u001b[49m\n\u001b[0;32m    790\u001b[0m \u001b[43m            \u001b[49m\u001b[43mhandle\u001b[49m\u001b[43m,\u001b[49m\n\u001b[0;32m    791\u001b[0m \u001b[43m            \u001b[49m\u001b[43mioargs\u001b[49m\u001b[38;5;241;43m.\u001b[39;49m\u001b[43mmode\u001b[49m\u001b[43m,\u001b[49m\n\u001b[0;32m    792\u001b[0m \u001b[43m            \u001b[49m\u001b[43mencoding\u001b[49m\u001b[38;5;241;43m=\u001b[39;49m\u001b[43mioargs\u001b[49m\u001b[38;5;241;43m.\u001b[39;49m\u001b[43mencoding\u001b[49m\u001b[43m,\u001b[49m\n\u001b[0;32m    793\u001b[0m \u001b[43m            \u001b[49m\u001b[43merrors\u001b[49m\u001b[38;5;241;43m=\u001b[39;49m\u001b[43merrors\u001b[49m\u001b[43m,\u001b[49m\n\u001b[0;32m    794\u001b[0m \u001b[43m            \u001b[49m\u001b[43mnewline\u001b[49m\u001b[38;5;241;43m=\u001b[39;49m\u001b[38;5;124;43m\"\u001b[39;49m\u001b[38;5;124;43m\"\u001b[39;49m\u001b[43m,\u001b[49m\n\u001b[0;32m    795\u001b[0m \u001b[43m        \u001b[49m\u001b[43m)\u001b[49m\n\u001b[0;32m    796\u001b[0m     \u001b[38;5;28;01melse\u001b[39;00m:\n\u001b[0;32m    797\u001b[0m         \u001b[38;5;66;03m# Binary mode\u001b[39;00m\n\u001b[0;32m    798\u001b[0m         handle \u001b[38;5;241m=\u001b[39m \u001b[38;5;28mopen\u001b[39m(handle, ioargs\u001b[38;5;241m.\u001b[39mmode)\n",
      "\u001b[1;31mFileNotFoundError\u001b[0m: [Errno 2] No such file or directory: 'training_data_embeddings.csv'"
     ]
    }
   ],
   "source": [
    "X_train=pd.read_csv(\"training_data_embeddings.csv\")\n",
    "X_train"
   ]
  },
  {
   "cell_type": "code",
   "execution_count": null,
   "id": "dec587b1",
   "metadata": {},
   "outputs": [],
   "source": [
    "X_train.drop('Unnamed: 0',axis=1,inplace=True)"
   ]
  },
  {
   "cell_type": "markdown",
   "id": "3ce8dd32",
   "metadata": {},
   "source": [
    "     1. Logistic Regression  "
   ]
  },
  {
   "cell_type": "code",
   "execution_count": null,
   "id": "d424b01d",
   "metadata": {},
   "outputs": [],
   "source": [
    "logreg = LogisticRegression()\n",
    "logreg.fit(X_train, y_train)\n",
    "y_val_pred = logreg.predict(X_test)\n",
    "\n",
    "score = f1_score(y_test, y_val_pred, average = 'weighted')\n",
    "score"
   ]
  },
  {
   "cell_type": "markdown",
   "id": "e1436379",
   "metadata": {},
   "source": [
    "    2. Decision Tree"
   ]
  },
  {
   "cell_type": "code",
   "execution_count": null,
   "id": "a4b61b3e",
   "metadata": {},
   "outputs": [],
   "source": [
    "from sklearn.model_selection import GridSearchCV\n",
    "\n",
    "param_grid = {\"criterion\": [\"gini\", \"entropy\"],\n",
    "              \"max_depth\": [0, 200]}\n",
    "dtclf3 = DecisionTreeClassifier()\n",
    "dtclf_grid = GridSearchCV(dtclf3, param_grid, cv=3)\n",
    "dtclf_grid.fit(X_train,y_train)\n",
    "y_val_pred = dtclf_grid.predict(X_test)\n",
    "score = f1_score(y_test, y_val_pred, average = 'weighted')\n",
    "score"
   ]
  },
  {
   "cell_type": "markdown",
   "id": "c5564d36",
   "metadata": {},
   "source": [
    "    3. Random Forest"
   ]
  },
  {
   "cell_type": "code",
   "execution_count": null,
   "id": "2e5812b9",
   "metadata": {},
   "outputs": [],
   "source": [
    "param_grid = {\"n_estimators\" : [20, 100],\n",
    "              \"max_depth\" : [1,50],\n",
    "              \"max_features\" : [30, 50]}\n",
    "clf3 = RandomForestClassifier()\n",
    "clf_grid = GridSearchCV(clf3, param_grid, cv=2)\n",
    "clf_grid.fit(X_train,y_train)\n",
    "y_val_pred = clf_grid.predict(X_test)\n",
    "score = f1_score(y_test, y_val_pred, average = 'weighted')\n",
    "score"
   ]
  },
  {
   "cell_type": "markdown",
   "id": "c715299c",
   "metadata": {},
   "source": [
    "    4. Gaussian Naive Bayes"
   ]
  },
  {
   "cell_type": "code",
   "execution_count": null,
   "id": "10dba1d3",
   "metadata": {},
   "outputs": [],
   "source": [
    "naive=GaussianNB()\n",
    "naive.fit(X_train,y_train)\n",
    "y_val_pred = naive.predict(X_test)\n",
    "score = f1_score(y_test, y_val_pred, average = 'weighted')\n",
    "score"
   ]
  },
  {
   "cell_type": "markdown",
   "id": "c7d81566",
   "metadata": {},
   "source": [
    "     5. XG Boost"
   ]
  },
  {
   "cell_type": "code",
   "execution_count": null,
   "id": "01b2945f",
   "metadata": {},
   "outputs": [],
   "source": [
    "xgb=XGBClassifier()\n",
    "xgb.fit(X_train,y_train)\n",
    "y_val_pred = xgb.predict(X_test)\n",
    "score = f1_score(y_test, y_val_pred, average = 'weighted')\n",
    "score"
   ]
  },
  {
   "cell_type": "markdown",
   "id": "6b3e23ad",
   "metadata": {},
   "source": [
    "    6. AdaBoost"
   ]
  },
  {
   "cell_type": "code",
   "execution_count": null,
   "id": "dc8b0d1e",
   "metadata": {},
   "outputs": [],
   "source": [
    "clf_adaboost =  AdaBoostClassifier()\n",
    "clf_adaboost.fit(X_train, y_train)\n",
    "#print(clf_adaboost.best_params_)\n",
    "y_val_pred = clf_adaboost.predict(X_test)\n",
    "score = f1_score(y_test, y_val_pred, average = 'weighted')\n",
    "score"
   ]
  },
  {
   "cell_type": "markdown",
   "id": "70f3151d",
   "metadata": {},
   "source": [
    "    7. GradientBoost"
   ]
  },
  {
   "cell_type": "code",
   "execution_count": null,
   "id": "3ed01ab0",
   "metadata": {},
   "outputs": [],
   "source": [
    "clf_gradient =  GradientBoostingClassifier()\n",
    "clf_gradient.fit(X_train, y_train)\n",
    "#print(clf_adaboost.best_params_)\n",
    "y_val_pred = clf_gradient.predict(X_test)\n",
    "score = f1_score(y_test, y_val_pred, average = 'weighted')\n",
    "score"
   ]
  },
  {
   "cell_type": "markdown",
   "id": "3bbde1a5",
   "metadata": {},
   "source": [
    "#### Visual Representation of the performance of the models in terms of Average F1 Score : "
   ]
  },
  {
   "cell_type": "code",
   "execution_count": null,
   "id": "99646495",
   "metadata": {},
   "outputs": [],
   "source": [
    "x = list(['Logistic Regression', 'Decision Tree', 'Random Forest', 'Gaussian Naive Bayes', 'XG Boost', 'AdaBoost', 'GradientBoost'])\n",
    "y = list([0.8897452878278732,0.8218927850695935,0.8460581778722911,0.8053369909229872,0.8826017932341885,0.8628009871988357,0.8613825703362123])\n",
    "performance=pd.DataFrame({'Model':x,'Avg F1 Score':y})\n",
    "performance['Avg F1 Score']=performance['Avg F1 Score'].apply(lambda x: round(x,3))"
   ]
  },
  {
   "cell_type": "code",
   "execution_count": null,
   "id": "3b225f35",
   "metadata": {},
   "outputs": [],
   "source": [
    "performance"
   ]
  },
  {
   "cell_type": "code",
   "execution_count": null,
   "id": "4fb37dbb",
   "metadata": {},
   "outputs": [],
   "source": [
    "plt.figure(figsize=(15,10))\n",
    "# Plot the bar chart using Seaborn\n",
    "ax = sns.barplot(x='Model',y='Avg F1 Score', data=performance, palette='bright')\n",
    "\n",
    "# Add values on top of each bar\n",
    "for p in ax.patches:\n",
    "    height = p.get_height()\n",
    "    ax.text(p.get_x() + p.get_width() / 2., height, f'{height}', ha='center', va='bottom')\n",
    "    if height == average_value:\n",
    "        ax.annotate(f'Avg: {average_value:.2f}', (p.get_x() + p.get_width() / 2., height/2), ha='center', va='center', color='black')\n",
    "    \n",
    "average_value=performance['Avg F1 Score'].mean()    \n",
    "plt.axhline(y=average_value, color='black', linestyle='--', label='Average')\n",
    "# ax.text(len(performance) - 0.5, average_value + 1, f'Average: {average_value:.2f}', ha='right', va='bottom', color='black')\n",
    "\n",
    "# Add labels and title\n",
    "plt.xlabel('Models')\n",
    "plt.ylabel('Average F1 Scores')\n",
    "plt.title('Model Performance of different models w.r.to Average F1 Score')\n",
    "\n",
    "# Show the plot\n",
    "plt.show()"
   ]
  }
 ],
 "metadata": {
  "kernelspec": {
   "display_name": "Python 3 (ipykernel)",
   "language": "python",
   "name": "python3"
  },
  "language_info": {
   "codemirror_mode": {
    "name": "ipython",
    "version": 3
   },
   "file_extension": ".py",
   "mimetype": "text/x-python",
   "name": "python",
   "nbconvert_exporter": "python",
   "pygments_lexer": "ipython3",
   "version": "3.9.12"
  }
 },
 "nbformat": 4,
 "nbformat_minor": 5
}
